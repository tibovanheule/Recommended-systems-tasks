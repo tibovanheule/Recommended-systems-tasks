{
 "cells": [
  {
   "cell_type": "markdown",
   "id": "58d7b2c5",
   "metadata": {},
   "source": [
    "# Recommender systems - practical exercise 1\n",
    "non-personalized recommendations"
   ]
  },
  {
   "cell_type": "markdown",
   "id": "5a7aa68d",
   "metadata": {},
   "source": [
    "## program"
   ]
  },
  {
   "cell_type": "code",
   "execution_count": 252,
   "id": "3e8f6d2f",
   "metadata": {},
   "outputs": [],
   "source": [
    "import pandas as pd\n",
    "from functools import lru_cache"
   ]
  },
  {
   "cell_type": "code",
   "execution_count": 270,
   "id": "8bf2281a",
   "metadata": {},
   "outputs": [],
   "source": [
    "def read_dat_files():\n",
    "    R = pd.read_csv(\"/ml-1m/ratings.dat\",sep=\"::\",engine=\"python\",names=[\"userID\",\"movieID\",\"rating\",\"timestamp\"])\n",
    "    del R[\"timestamp\"]\n",
    "    I = pd.read_csv(\"/ml-1m/movies.dat\",sep=\"::\",engine=\"python\",names=[\"movieID\",\"title\",\"genre\"])\n",
    "    U = pd.read_csv(\"/ml-1m/users.dat\",sep=\"::\",engine=\"python\")\n",
    "    return R, I, U "
   ]
  },
  {
   "cell_type": "code",
   "execution_count": 271,
   "id": "1fe89e23",
   "metadata": {},
   "outputs": [
    {
     "data": {
      "text/html": [
       "<div>\n",
       "<style scoped>\n",
       "    .dataframe tbody tr th:only-of-type {\n",
       "        vertical-align: middle;\n",
       "    }\n",
       "\n",
       "    .dataframe tbody tr th {\n",
       "        vertical-align: top;\n",
       "    }\n",
       "\n",
       "    .dataframe thead th {\n",
       "        text-align: right;\n",
       "    }\n",
       "</style>\n",
       "<table border=\"1\" class=\"dataframe\">\n",
       "  <thead>\n",
       "    <tr style=\"text-align: right;\">\n",
       "      <th></th>\n",
       "      <th>movieID</th>\n",
       "      <th>title</th>\n",
       "      <th>genre</th>\n",
       "    </tr>\n",
       "  </thead>\n",
       "  <tbody>\n",
       "    <tr>\n",
       "      <th>0</th>\n",
       "      <td>1</td>\n",
       "      <td>Toy Story (1995)</td>\n",
       "      <td>Animation|Children's|Comedy</td>\n",
       "    </tr>\n",
       "    <tr>\n",
       "      <th>1</th>\n",
       "      <td>2</td>\n",
       "      <td>Jumanji (1995)</td>\n",
       "      <td>Adventure|Children's|Fantasy</td>\n",
       "    </tr>\n",
       "    <tr>\n",
       "      <th>2</th>\n",
       "      <td>3</td>\n",
       "      <td>Grumpier Old Men (1995)</td>\n",
       "      <td>Comedy|Romance</td>\n",
       "    </tr>\n",
       "    <tr>\n",
       "      <th>3</th>\n",
       "      <td>4</td>\n",
       "      <td>Waiting to Exhale (1995)</td>\n",
       "      <td>Comedy|Drama</td>\n",
       "    </tr>\n",
       "    <tr>\n",
       "      <th>4</th>\n",
       "      <td>5</td>\n",
       "      <td>Father of the Bride Part II (1995)</td>\n",
       "      <td>Comedy</td>\n",
       "    </tr>\n",
       "    <tr>\n",
       "      <th>...</th>\n",
       "      <td>...</td>\n",
       "      <td>...</td>\n",
       "      <td>...</td>\n",
       "    </tr>\n",
       "    <tr>\n",
       "      <th>3878</th>\n",
       "      <td>3948</td>\n",
       "      <td>Meet the Parents (2000)</td>\n",
       "      <td>Comedy</td>\n",
       "    </tr>\n",
       "    <tr>\n",
       "      <th>3879</th>\n",
       "      <td>3949</td>\n",
       "      <td>Requiem for a Dream (2000)</td>\n",
       "      <td>Drama</td>\n",
       "    </tr>\n",
       "    <tr>\n",
       "      <th>3880</th>\n",
       "      <td>3950</td>\n",
       "      <td>Tigerland (2000)</td>\n",
       "      <td>Drama</td>\n",
       "    </tr>\n",
       "    <tr>\n",
       "      <th>3881</th>\n",
       "      <td>3951</td>\n",
       "      <td>Two Family House (2000)</td>\n",
       "      <td>Drama</td>\n",
       "    </tr>\n",
       "    <tr>\n",
       "      <th>3882</th>\n",
       "      <td>3952</td>\n",
       "      <td>Contender, The (2000)</td>\n",
       "      <td>Drama|Thriller</td>\n",
       "    </tr>\n",
       "  </tbody>\n",
       "</table>\n",
       "<p>3883 rows × 3 columns</p>\n",
       "</div>"
      ],
      "text/plain": [
       "      movieID                               title  \\\n",
       "0           1                    Toy Story (1995)   \n",
       "1           2                      Jumanji (1995)   \n",
       "2           3             Grumpier Old Men (1995)   \n",
       "3           4            Waiting to Exhale (1995)   \n",
       "4           5  Father of the Bride Part II (1995)   \n",
       "...       ...                                 ...   \n",
       "3878     3948             Meet the Parents (2000)   \n",
       "3879     3949          Requiem for a Dream (2000)   \n",
       "3880     3950                    Tigerland (2000)   \n",
       "3881     3951             Two Family House (2000)   \n",
       "3882     3952               Contender, The (2000)   \n",
       "\n",
       "                             genre  \n",
       "0      Animation|Children's|Comedy  \n",
       "1     Adventure|Children's|Fantasy  \n",
       "2                   Comedy|Romance  \n",
       "3                     Comedy|Drama  \n",
       "4                           Comedy  \n",
       "...                            ...  \n",
       "3878                        Comedy  \n",
       "3879                         Drama  \n",
       "3880                         Drama  \n",
       "3881                         Drama  \n",
       "3882                Drama|Thriller  \n",
       "\n",
       "[3883 rows x 3 columns]"
      ]
     },
     "execution_count": 271,
     "metadata": {},
     "output_type": "execute_result"
    }
   ],
   "source": [
    "R, I, U = read_dat_files()\n",
    "movies"
   ]
  },
  {
   "cell_type": "code",
   "execution_count": 255,
   "id": "55ba9694",
   "metadata": {},
   "outputs": [],
   "source": [
    "@lru_cache\n",
    "def calculate_simple_association(movie_id_1,movie_id_2):\n",
    "    movie_1 = R[R.movieID==movie_id_1] # X\n",
    "    if len(movie_1) == 0:\n",
    "        return 0\n",
    "    \n",
    "    movie_2 = R[R.movieID==movie_id_2]\n",
    "    movie_1_2 = pd.merge(movie_1,movie_2,how=\"inner\",on=\"userID\")\n",
    "    \n",
    "    return len(movie_1_2)/len(movie_1)"
   ]
  },
  {
   "cell_type": "code",
   "execution_count": 296,
   "id": "c005e226",
   "metadata": {},
   "outputs": [],
   "source": [
    "@lru_cache\n",
    "def calculate_advanced_association(movie_id_1,movie_id_2):    \n",
    "    not_x_and_y = 0\n",
    "    not_x = 0\n",
    "    for user, data in R.groupby(\"userID\"):\n",
    "        movies = set(data.movieID)\n",
    "        if (movie_id_1 not in movies) and (movie_id_2 in movies):\n",
    "            not_x_and_y += 1\n",
    "        if (movie_id_1 not in movies):\n",
    "            not_x += 1\n",
    "    if not_x_and_y == 0:\n",
    "        return 0\n",
    "    return calculate_simple_association(movie_id_1,movie_id_2)*(not_x/not_x_and_y)"
   ]
  },
  {
   "cell_type": "code",
   "execution_count": 297,
   "id": "1d8699e1",
   "metadata": {},
   "outputs": [
    {
     "data": {
      "text/plain": [
       "0.15047619047619049"
      ]
     },
     "execution_count": 297,
     "metadata": {},
     "output_type": "execute_result"
    }
   ],
   "source": [
    "calculate_simple_association(661,1091)"
   ]
  },
  {
   "cell_type": "code",
   "execution_count": 299,
   "id": "da3a1cc1",
   "metadata": {},
   "outputs": [
    {
     "data": {
      "text/plain": [
       "2.8227081308713964"
      ]
     },
     "execution_count": 299,
     "metadata": {},
     "output_type": "execute_result"
    }
   ],
   "source": [
    "calculate_advanced_association(661,1091)"
   ]
  },
  {
   "cell_type": "code",
   "execution_count": 305,
   "id": "f8ef37cb",
   "metadata": {},
   "outputs": [],
   "source": [
    "def highest_simple(movie_id,n):\n",
    "    movies = set(R.movieID)\n",
    "    movies.remove(movie_id)\n",
    "    retval = []\n",
    "    for i in movies:\n",
    "        retval.append((i,calculate_simple_association(movie_id,i),))\n",
    "    retval = sorted(retval,key=lambda x:(-x[1],-x[0]))[:n]\n",
    "    return pd.merge(pd.DataFrame(retval, columns={\"movieID\",\"simple\"}),I, how=\"inner\",on=\"movieID\")"
   ]
  },
  {
   "cell_type": "code",
   "execution_count": 306,
   "id": "bdd0452a",
   "metadata": {},
   "outputs": [
    {
     "data": {
      "text/html": [
       "<div>\n",
       "<style scoped>\n",
       "    .dataframe tbody tr th:only-of-type {\n",
       "        vertical-align: middle;\n",
       "    }\n",
       "\n",
       "    .dataframe tbody tr th {\n",
       "        vertical-align: top;\n",
       "    }\n",
       "\n",
       "    .dataframe thead th {\n",
       "        text-align: right;\n",
       "    }\n",
       "</style>\n",
       "<table border=\"1\" class=\"dataframe\">\n",
       "  <thead>\n",
       "    <tr style=\"text-align: right;\">\n",
       "      <th></th>\n",
       "      <th>movieID</th>\n",
       "      <th>simple</th>\n",
       "      <th>title</th>\n",
       "      <th>genre</th>\n",
       "    </tr>\n",
       "  </thead>\n",
       "  <tbody>\n",
       "    <tr>\n",
       "      <th>0</th>\n",
       "      <td>480</td>\n",
       "      <td>0.756190</td>\n",
       "      <td>Jurassic Park (1993)</td>\n",
       "      <td>Action|Adventure|Sci-Fi</td>\n",
       "    </tr>\n",
       "    <tr>\n",
       "      <th>1</th>\n",
       "      <td>1580</td>\n",
       "      <td>0.750476</td>\n",
       "      <td>Men in Black (1997)</td>\n",
       "      <td>Action|Adventure|Comedy|Sci-Fi</td>\n",
       "    </tr>\n",
       "    <tr>\n",
       "      <th>2</th>\n",
       "      <td>1196</td>\n",
       "      <td>0.731429</td>\n",
       "      <td>Star Wars: Episode V - The Empire Strikes Back...</td>\n",
       "      <td>Action|Adventure|Drama|Sci-Fi|War</td>\n",
       "    </tr>\n",
       "    <tr>\n",
       "      <th>3</th>\n",
       "      <td>1</td>\n",
       "      <td>0.729524</td>\n",
       "      <td>Toy Story (1995)</td>\n",
       "      <td>Animation|Children's|Comedy</td>\n",
       "    </tr>\n",
       "    <tr>\n",
       "      <th>4</th>\n",
       "      <td>260</td>\n",
       "      <td>0.725714</td>\n",
       "      <td>Star Wars: Episode IV - A New Hope (1977)</td>\n",
       "      <td>Action|Adventure|Fantasy|Sci-Fi</td>\n",
       "    </tr>\n",
       "    <tr>\n",
       "      <th>5</th>\n",
       "      <td>2858</td>\n",
       "      <td>0.716190</td>\n",
       "      <td>American Beauty (1999)</td>\n",
       "      <td>Comedy|Drama</td>\n",
       "    </tr>\n",
       "    <tr>\n",
       "      <th>6</th>\n",
       "      <td>589</td>\n",
       "      <td>0.710476</td>\n",
       "      <td>Terminator 2: Judgment Day (1991)</td>\n",
       "      <td>Action|Sci-Fi|Thriller</td>\n",
       "    </tr>\n",
       "    <tr>\n",
       "      <th>7</th>\n",
       "      <td>1210</td>\n",
       "      <td>0.693333</td>\n",
       "      <td>Star Wars: Episode VI - Return of the Jedi (1983)</td>\n",
       "      <td>Action|Adventure|Romance|Sci-Fi|War</td>\n",
       "    </tr>\n",
       "    <tr>\n",
       "      <th>8</th>\n",
       "      <td>2571</td>\n",
       "      <td>0.681905</td>\n",
       "      <td>Matrix, The (1999)</td>\n",
       "      <td>Action|Sci-Fi|Thriller</td>\n",
       "    </tr>\n",
       "    <tr>\n",
       "      <th>9</th>\n",
       "      <td>1097</td>\n",
       "      <td>0.680000</td>\n",
       "      <td>E.T. the Extra-Terrestrial (1982)</td>\n",
       "      <td>Children's|Drama|Fantasy|Sci-Fi</td>\n",
       "    </tr>\n",
       "  </tbody>\n",
       "</table>\n",
       "</div>"
      ],
      "text/plain": [
       "   movieID    simple                                              title  \\\n",
       "0      480  0.756190                               Jurassic Park (1993)   \n",
       "1     1580  0.750476                                Men in Black (1997)   \n",
       "2     1196  0.731429  Star Wars: Episode V - The Empire Strikes Back...   \n",
       "3        1  0.729524                                   Toy Story (1995)   \n",
       "4      260  0.725714          Star Wars: Episode IV - A New Hope (1977)   \n",
       "5     2858  0.716190                             American Beauty (1999)   \n",
       "6      589  0.710476                  Terminator 2: Judgment Day (1991)   \n",
       "7     1210  0.693333  Star Wars: Episode VI - Return of the Jedi (1983)   \n",
       "8     2571  0.681905                                 Matrix, The (1999)   \n",
       "9     1097  0.680000                  E.T. the Extra-Terrestrial (1982)   \n",
       "\n",
       "                                 genre  \n",
       "0              Action|Adventure|Sci-Fi  \n",
       "1       Action|Adventure|Comedy|Sci-Fi  \n",
       "2    Action|Adventure|Drama|Sci-Fi|War  \n",
       "3          Animation|Children's|Comedy  \n",
       "4      Action|Adventure|Fantasy|Sci-Fi  \n",
       "5                         Comedy|Drama  \n",
       "6               Action|Sci-Fi|Thriller  \n",
       "7  Action|Adventure|Romance|Sci-Fi|War  \n",
       "8               Action|Sci-Fi|Thriller  \n",
       "9      Children's|Drama|Fantasy|Sci-Fi  "
      ]
     },
     "execution_count": 306,
     "metadata": {},
     "output_type": "execute_result"
    }
   ],
   "source": [
    "highest_simple(661,10)"
   ]
  },
  {
   "cell_type": "code",
   "execution_count": 307,
   "id": "2acc4154",
   "metadata": {},
   "outputs": [],
   "source": [
    "def highest_advanced(movie_id,n):\n",
    "    movies = set(R.movieID)\n",
    "    movies.remove(movie_id)\n",
    "    retval = []\n",
    "    for i in movies:\n",
    "        retval.append((i,calculate_advanced_association(movie_id,i),))\n",
    "    retval = sorted(retval,key=lambda x:(-x[1],-x[0]))[:n]\n",
    "    return pd.merge(pd.DataFrame(retval, columns={\"movieID\",\"simple\"}),I, how=\"inner\",on=\"movieID\")"
   ]
  },
  {
   "cell_type": "code",
   "execution_count": 292,
   "id": "1905b886",
   "metadata": {},
   "outputs": [
    {
     "ename": "ZeroDivisionError",
     "evalue": "division by zero",
     "output_type": "error",
     "traceback": [
      "\u001b[0;31m---------------------------------------------------------------------------\u001b[0m",
      "\u001b[0;31mZeroDivisionError\u001b[0m                         Traceback (most recent call last)",
      "Input \u001b[0;32mIn [292]\u001b[0m, in \u001b[0;36m<cell line: 1>\u001b[0;34m()\u001b[0m\n\u001b[0;32m----> 1\u001b[0m \u001b[43mhighest_advanced\u001b[49m\u001b[43m(\u001b[49m\u001b[38;5;241;43m661\u001b[39;49m\u001b[43m,\u001b[49m\u001b[38;5;241;43m10\u001b[39;49m\u001b[43m)\u001b[49m\n",
      "Input \u001b[0;32mIn [291]\u001b[0m, in \u001b[0;36mhighest_advanced\u001b[0;34m(movie_id, n)\u001b[0m\n\u001b[1;32m      4\u001b[0m retval \u001b[38;5;241m=\u001b[39m []\n\u001b[1;32m      5\u001b[0m \u001b[38;5;28;01mfor\u001b[39;00m i \u001b[38;5;129;01min\u001b[39;00m movies:\n\u001b[0;32m----> 6\u001b[0m     retval\u001b[38;5;241m.\u001b[39mappend((i,\u001b[43mcalculate_advanced_association\u001b[49m\u001b[43m(\u001b[49m\u001b[43mmovie_id\u001b[49m\u001b[43m,\u001b[49m\u001b[43mi\u001b[49m\u001b[43m)\u001b[49m,))\n\u001b[1;32m      7\u001b[0m retval \u001b[38;5;241m=\u001b[39m \u001b[38;5;28msorted\u001b[39m(retval,key\u001b[38;5;241m=\u001b[39m\u001b[38;5;28;01mlambda\u001b[39;00m x:(\u001b[38;5;241m-\u001b[39mx[\u001b[38;5;241m1\u001b[39m],\u001b[38;5;241m-\u001b[39mx[\u001b[38;5;241m0\u001b[39m]))[:n]\n\u001b[1;32m      8\u001b[0m \u001b[38;5;28;01mreturn\u001b[39;00m pd\u001b[38;5;241m.\u001b[39mDataFrame(retval)\n",
      "Input \u001b[0;32mIn [256]\u001b[0m, in \u001b[0;36mcalculate_advanced_association\u001b[0;34m(movie_id_1, movie_id_2)\u001b[0m\n\u001b[1;32m      8\u001b[0m     \u001b[38;5;28;01mif\u001b[39;00m (movie_id_1 \u001b[38;5;129;01mnot\u001b[39;00m \u001b[38;5;129;01min\u001b[39;00m movies):\n\u001b[1;32m      9\u001b[0m         not_x \u001b[38;5;241m+\u001b[39m\u001b[38;5;241m=\u001b[39m \u001b[38;5;241m1\u001b[39m\n\u001b[0;32m---> 10\u001b[0m \u001b[38;5;28;01mreturn\u001b[39;00m calculate_simple_association(movie_id_1,movie_id_2)\u001b[38;5;241m*\u001b[39m(\u001b[43mnot_x\u001b[49m\u001b[38;5;241;43m/\u001b[39;49m\u001b[43mnot_x_and_y\u001b[49m)\n",
      "\u001b[0;31mZeroDivisionError\u001b[0m: division by zero"
     ]
    }
   ],
   "source": [
    "highest_advanced(661,10)"
   ]
  },
  {
   "cell_type": "code",
   "execution_count": 289,
   "id": "05db8b23",
   "metadata": {},
   "outputs": [
    {
     "data": {
      "text/html": [
       "<div>\n",
       "<style scoped>\n",
       "    .dataframe tbody tr th:only-of-type {\n",
       "        vertical-align: middle;\n",
       "    }\n",
       "\n",
       "    .dataframe tbody tr th {\n",
       "        vertical-align: top;\n",
       "    }\n",
       "\n",
       "    .dataframe thead th {\n",
       "        text-align: right;\n",
       "    }\n",
       "</style>\n",
       "<table border=\"1\" class=\"dataframe\">\n",
       "  <thead>\n",
       "    <tr style=\"text-align: right;\">\n",
       "      <th></th>\n",
       "      <th>movieID</th>\n",
       "      <th>freq</th>\n",
       "      <th>title</th>\n",
       "      <th>genre</th>\n",
       "    </tr>\n",
       "  </thead>\n",
       "  <tbody>\n",
       "    <tr>\n",
       "      <th>0</th>\n",
       "      <td>2858</td>\n",
       "      <td>3428</td>\n",
       "      <td>American Beauty (1999)</td>\n",
       "      <td>Comedy|Drama</td>\n",
       "    </tr>\n",
       "    <tr>\n",
       "      <th>1</th>\n",
       "      <td>260</td>\n",
       "      <td>2991</td>\n",
       "      <td>Star Wars: Episode IV - A New Hope (1977)</td>\n",
       "      <td>Action|Adventure|Fantasy|Sci-Fi</td>\n",
       "    </tr>\n",
       "    <tr>\n",
       "      <th>2</th>\n",
       "      <td>1196</td>\n",
       "      <td>2990</td>\n",
       "      <td>Star Wars: Episode V - The Empire Strikes Back...</td>\n",
       "      <td>Action|Adventure|Drama|Sci-Fi|War</td>\n",
       "    </tr>\n",
       "    <tr>\n",
       "      <th>3</th>\n",
       "      <td>1210</td>\n",
       "      <td>2883</td>\n",
       "      <td>Star Wars: Episode VI - Return of the Jedi (1983)</td>\n",
       "      <td>Action|Adventure|Romance|Sci-Fi|War</td>\n",
       "    </tr>\n",
       "    <tr>\n",
       "      <th>4</th>\n",
       "      <td>480</td>\n",
       "      <td>2672</td>\n",
       "      <td>Jurassic Park (1993)</td>\n",
       "      <td>Action|Adventure|Sci-Fi</td>\n",
       "    </tr>\n",
       "    <tr>\n",
       "      <th>5</th>\n",
       "      <td>2028</td>\n",
       "      <td>2653</td>\n",
       "      <td>Saving Private Ryan (1998)</td>\n",
       "      <td>Action|Drama|War</td>\n",
       "    </tr>\n",
       "    <tr>\n",
       "      <th>6</th>\n",
       "      <td>589</td>\n",
       "      <td>2649</td>\n",
       "      <td>Terminator 2: Judgment Day (1991)</td>\n",
       "      <td>Action|Sci-Fi|Thriller</td>\n",
       "    </tr>\n",
       "    <tr>\n",
       "      <th>7</th>\n",
       "      <td>2571</td>\n",
       "      <td>2590</td>\n",
       "      <td>Matrix, The (1999)</td>\n",
       "      <td>Action|Sci-Fi|Thriller</td>\n",
       "    </tr>\n",
       "    <tr>\n",
       "      <th>8</th>\n",
       "      <td>1270</td>\n",
       "      <td>2583</td>\n",
       "      <td>Back to the Future (1985)</td>\n",
       "      <td>Comedy|Sci-Fi</td>\n",
       "    </tr>\n",
       "    <tr>\n",
       "      <th>9</th>\n",
       "      <td>593</td>\n",
       "      <td>2578</td>\n",
       "      <td>Silence of the Lambs, The (1991)</td>\n",
       "      <td>Drama|Thriller</td>\n",
       "    </tr>\n",
       "  </tbody>\n",
       "</table>\n",
       "</div>"
      ],
      "text/plain": [
       "   movieID  freq                                              title  \\\n",
       "0     2858  3428                             American Beauty (1999)   \n",
       "1      260  2991          Star Wars: Episode IV - A New Hope (1977)   \n",
       "2     1196  2990  Star Wars: Episode V - The Empire Strikes Back...   \n",
       "3     1210  2883  Star Wars: Episode VI - Return of the Jedi (1983)   \n",
       "4      480  2672                               Jurassic Park (1993)   \n",
       "5     2028  2653                         Saving Private Ryan (1998)   \n",
       "6      589  2649                  Terminator 2: Judgment Day (1991)   \n",
       "7     2571  2590                                 Matrix, The (1999)   \n",
       "8     1270  2583                          Back to the Future (1985)   \n",
       "9      593  2578                   Silence of the Lambs, The (1991)   \n",
       "\n",
       "                                 genre  \n",
       "0                         Comedy|Drama  \n",
       "1      Action|Adventure|Fantasy|Sci-Fi  \n",
       "2    Action|Adventure|Drama|Sci-Fi|War  \n",
       "3  Action|Adventure|Romance|Sci-Fi|War  \n",
       "4              Action|Adventure|Sci-Fi  \n",
       "5                     Action|Drama|War  \n",
       "6               Action|Sci-Fi|Thriller  \n",
       "7               Action|Sci-Fi|Thriller  \n",
       "8                        Comedy|Sci-Fi  \n",
       "9                       Drama|Thriller  "
      ]
     },
     "execution_count": 289,
     "metadata": {},
     "output_type": "execute_result"
    }
   ],
   "source": [
    "def get_most_rated(n):\n",
    "    return pd.merge(R.movieID.value_counts().head(n).reset_index().rename(columns={\"index\":\"movieID\",\"movieID\":\"freq\"}),I,how=\"inner\",on=\"movieID\")\n",
    "\n",
    "get_most_rated(10)"
   ]
  },
  {
   "cell_type": "code",
   "execution_count": 288,
   "id": "c38af921",
   "metadata": {},
   "outputs": [
    {
     "data": {
      "text/html": [
       "<div>\n",
       "<style scoped>\n",
       "    .dataframe tbody tr th:only-of-type {\n",
       "        vertical-align: middle;\n",
       "    }\n",
       "\n",
       "    .dataframe tbody tr th {\n",
       "        vertical-align: top;\n",
       "    }\n",
       "\n",
       "    .dataframe thead th {\n",
       "        text-align: right;\n",
       "    }\n",
       "</style>\n",
       "<table border=\"1\" class=\"dataframe\">\n",
       "  <thead>\n",
       "    <tr style=\"text-align: right;\">\n",
       "      <th></th>\n",
       "      <th>movieID</th>\n",
       "      <th>freq</th>\n",
       "      <th>title</th>\n",
       "      <th>genre</th>\n",
       "    </tr>\n",
       "  </thead>\n",
       "  <tbody>\n",
       "    <tr>\n",
       "      <th>0</th>\n",
       "      <td>2858</td>\n",
       "      <td>2853</td>\n",
       "      <td>American Beauty (1999)</td>\n",
       "      <td>Comedy|Drama</td>\n",
       "    </tr>\n",
       "    <tr>\n",
       "      <th>1</th>\n",
       "      <td>260</td>\n",
       "      <td>2622</td>\n",
       "      <td>Star Wars: Episode IV - A New Hope (1977)</td>\n",
       "      <td>Action|Adventure|Fantasy|Sci-Fi</td>\n",
       "    </tr>\n",
       "    <tr>\n",
       "      <th>2</th>\n",
       "      <td>1196</td>\n",
       "      <td>2510</td>\n",
       "      <td>Star Wars: Episode V - The Empire Strikes Back...</td>\n",
       "      <td>Action|Adventure|Drama|Sci-Fi|War</td>\n",
       "    </tr>\n",
       "    <tr>\n",
       "      <th>3</th>\n",
       "      <td>1198</td>\n",
       "      <td>2260</td>\n",
       "      <td>Raiders of the Lost Ark (1981)</td>\n",
       "      <td>Action|Adventure</td>\n",
       "    </tr>\n",
       "    <tr>\n",
       "      <th>4</th>\n",
       "      <td>2028</td>\n",
       "      <td>2260</td>\n",
       "      <td>Saving Private Ryan (1998)</td>\n",
       "      <td>Action|Drama|War</td>\n",
       "    </tr>\n",
       "    <tr>\n",
       "      <th>5</th>\n",
       "      <td>593</td>\n",
       "      <td>2252</td>\n",
       "      <td>Silence of the Lambs, The (1991)</td>\n",
       "      <td>Drama|Thriller</td>\n",
       "    </tr>\n",
       "    <tr>\n",
       "      <th>6</th>\n",
       "      <td>2571</td>\n",
       "      <td>2171</td>\n",
       "      <td>Matrix, The (1999)</td>\n",
       "      <td>Action|Sci-Fi|Thriller</td>\n",
       "    </tr>\n",
       "    <tr>\n",
       "      <th>7</th>\n",
       "      <td>2762</td>\n",
       "      <td>2163</td>\n",
       "      <td>Sixth Sense, The (1999)</td>\n",
       "      <td>Thriller</td>\n",
       "    </tr>\n",
       "    <tr>\n",
       "      <th>8</th>\n",
       "      <td>1210</td>\n",
       "      <td>2127</td>\n",
       "      <td>Star Wars: Episode VI - Return of the Jedi (1983)</td>\n",
       "      <td>Action|Adventure|Romance|Sci-Fi|War</td>\n",
       "    </tr>\n",
       "    <tr>\n",
       "      <th>9</th>\n",
       "      <td>608</td>\n",
       "      <td>2074</td>\n",
       "      <td>Fargo (1996)</td>\n",
       "      <td>Crime|Drama|Thriller</td>\n",
       "    </tr>\n",
       "  </tbody>\n",
       "</table>\n",
       "</div>"
      ],
      "text/plain": [
       "   movieID  freq                                              title  \\\n",
       "0     2858  2853                             American Beauty (1999)   \n",
       "1      260  2622          Star Wars: Episode IV - A New Hope (1977)   \n",
       "2     1196  2510  Star Wars: Episode V - The Empire Strikes Back...   \n",
       "3     1198  2260                     Raiders of the Lost Ark (1981)   \n",
       "4     2028  2260                         Saving Private Ryan (1998)   \n",
       "5      593  2252                   Silence of the Lambs, The (1991)   \n",
       "6     2571  2171                                 Matrix, The (1999)   \n",
       "7     2762  2163                            Sixth Sense, The (1999)   \n",
       "8     1210  2127  Star Wars: Episode VI - Return of the Jedi (1983)   \n",
       "9      608  2074                                       Fargo (1996)   \n",
       "\n",
       "                                 genre  \n",
       "0                         Comedy|Drama  \n",
       "1      Action|Adventure|Fantasy|Sci-Fi  \n",
       "2    Action|Adventure|Drama|Sci-Fi|War  \n",
       "3                     Action|Adventure  \n",
       "4                     Action|Drama|War  \n",
       "5                       Drama|Thriller  \n",
       "6               Action|Sci-Fi|Thriller  \n",
       "7                             Thriller  \n",
       "8  Action|Adventure|Romance|Sci-Fi|War  \n",
       "9                 Crime|Drama|Thriller  "
      ]
     },
     "execution_count": 288,
     "metadata": {},
     "output_type": "execute_result"
    }
   ],
   "source": [
    "def get_most_rated_with_least_rating(n,least=4):\n",
    "    return pd.merge(R[R.rating >= least].movieID.value_counts().head(n).reset_index().rename(columns={\"index\":\"movieID\",\"movieID\":\"freq\"}),I,how=\"inner\",on=\"movieID\")\n",
    "\n",
    "get_most_rated_with_least_rating(10,4)"
   ]
  },
  {
   "cell_type": "markdown",
   "id": "24b90b00",
   "metadata": {},
   "source": [
    "# Analysis"
   ]
  },
  {
   "cell_type": "markdown",
   "id": "242c5d26",
   "metadata": {},
   "source": [
    "Consider the movie with ID 1. What is the value of the simple product association for the\n",
    "movie with ID 1064?"
   ]
  },
  {
   "cell_type": "code",
   "execution_count": 228,
   "id": "0e3e38c9",
   "metadata": {},
   "outputs": [
    {
     "data": {
      "text/plain": [
       "0.08281174771304767"
      ]
     },
     "execution_count": 228,
     "metadata": {},
     "output_type": "execute_result"
    }
   ],
   "source": [
    "calculate_simple_association(1,1064)"
   ]
  },
  {
   "cell_type": "markdown",
   "id": "9df9b6ad",
   "metadata": {},
   "source": [
    "Consider the movie with ID 1. What is the value of the advanced product association for the\n",
    "movie with ID 1064?"
   ]
  },
  {
   "cell_type": "code",
   "execution_count": 245,
   "id": "18d3f925",
   "metadata": {},
   "outputs": [
    {
     "data": {
      "text/plain": [
       "8.869809626670484"
      ]
     },
     "execution_count": 245,
     "metadata": {},
     "output_type": "execute_result"
    }
   ],
   "source": [
    "calculate_advanced_association(1,1064)"
   ]
  },
  {
   "cell_type": "markdown",
   "id": "9bb33af8",
   "metadata": {},
   "source": [
    "Explain the difference between the values of the simple and advanced product association\n",
    "(question 1 and 2). How do we have to interpret these numbers?"
   ]
  },
  {
   "cell_type": "markdown",
   "id": "fe6a0a16",
   "metadata": {},
   "source": [
    "Answer:\n",
    "\n",
    "- Simple association is an asymmetrical relationship that expresses the percentage of people who bought X, who also bought Y. X is something that occurred, what is now the probability that Y occurs?\n",
    "\n",
    "- advanced product association calculates if X makes Y more likely than other products. "
   ]
  },
  {
   "cell_type": "markdown",
   "id": "e345488b",
   "metadata": {},
   "source": [
    "Consider the movie with ID 1. What is the value of the simple product association for the\n",
    "movie with ID 2858?"
   ]
  },
  {
   "cell_type": "code",
   "execution_count": 230,
   "id": "ad8af271",
   "metadata": {},
   "outputs": [
    {
     "data": {
      "text/plain": [
       "0.6783822821376986"
      ]
     },
     "execution_count": 230,
     "metadata": {},
     "output_type": "execute_result"
    }
   ],
   "source": [
    "calculate_simple_association(1,2858)"
   ]
  },
  {
   "cell_type": "markdown",
   "id": "d84e116c",
   "metadata": {},
   "source": [
    "What are the movie titles and genres of movies with ID 1, 1064, and 2858?"
   ]
  },
  {
   "cell_type": "code",
   "execution_count": 322,
   "id": "21c4c2c5",
   "metadata": {},
   "outputs": [
    {
     "data": {
      "text/html": [
       "<div>\n",
       "<style scoped>\n",
       "    .dataframe tbody tr th:only-of-type {\n",
       "        vertical-align: middle;\n",
       "    }\n",
       "\n",
       "    .dataframe tbody tr th {\n",
       "        vertical-align: top;\n",
       "    }\n",
       "\n",
       "    .dataframe thead th {\n",
       "        text-align: right;\n",
       "    }\n",
       "</style>\n",
       "<table border=\"1\" class=\"dataframe\">\n",
       "  <thead>\n",
       "    <tr style=\"text-align: right;\">\n",
       "      <th></th>\n",
       "      <th>movieID</th>\n",
       "      <th>title</th>\n",
       "      <th>genre</th>\n",
       "    </tr>\n",
       "  </thead>\n",
       "  <tbody>\n",
       "    <tr>\n",
       "      <th>0</th>\n",
       "      <td>1</td>\n",
       "      <td>Toy Story (1995)</td>\n",
       "      <td>Animation|Children's|Comedy</td>\n",
       "    </tr>\n",
       "    <tr>\n",
       "      <th>1050</th>\n",
       "      <td>1064</td>\n",
       "      <td>Aladdin and the King of Thieves (1996)</td>\n",
       "      <td>Animation|Children's|Comedy</td>\n",
       "    </tr>\n",
       "    <tr>\n",
       "      <th>2789</th>\n",
       "      <td>2858</td>\n",
       "      <td>American Beauty (1999)</td>\n",
       "      <td>Comedy|Drama</td>\n",
       "    </tr>\n",
       "    <tr>\n",
       "      <th>3871</th>\n",
       "      <td>3941</td>\n",
       "      <td>Sorority House Massacre (1986)</td>\n",
       "      <td>Horror</td>\n",
       "    </tr>\n",
       "  </tbody>\n",
       "</table>\n",
       "</div>"
      ],
      "text/plain": [
       "      movieID                                   title  \\\n",
       "0           1                        Toy Story (1995)   \n",
       "1050     1064  Aladdin and the King of Thieves (1996)   \n",
       "2789     2858                  American Beauty (1999)   \n",
       "3871     3941          Sorority House Massacre (1986)   \n",
       "\n",
       "                            genre  \n",
       "0     Animation|Children's|Comedy  \n",
       "1050  Animation|Children's|Comedy  \n",
       "2789                 Comedy|Drama  \n",
       "3871                       Horror  "
      ]
     },
     "execution_count": 322,
     "metadata": {},
     "output_type": "execute_result"
    }
   ],
   "source": [
    "I[(I.movieID == 1) | (I.movieID == 1064)| (I.movieID == 2858)| (I.movieID == 3941) ]"
   ]
  },
  {
   "cell_type": "markdown",
   "id": "16fb67ce",
   "metadata": {},
   "source": [
    "Compare the results of question 1 and 4. Which movie has the highest simple association\n",
    "value (1064 or 2858) with movie ID 1 and explain why?\n",
    "\n",
    "- answer: The movie with id 2858, American Beauty (1999), has a higher association. This is because the term \"X and Y\" is higher. This means that if people "
   ]
  },
  {
   "cell_type": "markdown",
   "id": "95df1b9e",
   "metadata": {},
   "source": [
    "Consider the movie with ID 1. What is the value of the advanced product association for the\n",
    "movie with ID 2858?"
   ]
  },
  {
   "cell_type": "code",
   "execution_count": 273,
   "id": "05d38e6e",
   "metadata": {},
   "outputs": [
    {
     "data": {
      "text/plain": [
       "1.331564628089004"
      ]
     },
     "execution_count": 273,
     "metadata": {},
     "output_type": "execute_result"
    }
   ],
   "source": [
    "calculate_advanced_association(1,2858)"
   ]
  },
  {
   "cell_type": "markdown",
   "id": "e726fcf6",
   "metadata": {},
   "source": [
    "Compare the results of question 2 and 7. Which movie has the highest advanced association\n",
    "value (1064 or 2858) with movie ID 1 and explain why?"
   ]
  },
  {
   "cell_type": "markdown",
   "id": "9df59cba",
   "metadata": {},
   "source": []
  },
  {
   "cell_type": "markdown",
   "id": "2c2be8b4",
   "metadata": {},
   "source": [
    "Calculate the top 10 most frequently rated movies. Provide the movie ID, number of users\n",
    "who rated the movie, and title for each."
   ]
  },
  {
   "cell_type": "code",
   "execution_count": 320,
   "id": "5a335523",
   "metadata": {},
   "outputs": [
    {
     "data": {
      "text/html": [
       "<div>\n",
       "<style scoped>\n",
       "    .dataframe tbody tr th:only-of-type {\n",
       "        vertical-align: middle;\n",
       "    }\n",
       "\n",
       "    .dataframe tbody tr th {\n",
       "        vertical-align: top;\n",
       "    }\n",
       "\n",
       "    .dataframe thead th {\n",
       "        text-align: right;\n",
       "    }\n",
       "</style>\n",
       "<table border=\"1\" class=\"dataframe\">\n",
       "  <thead>\n",
       "    <tr style=\"text-align: right;\">\n",
       "      <th></th>\n",
       "      <th>movieID</th>\n",
       "      <th>freq</th>\n",
       "      <th>title</th>\n",
       "      <th>genre</th>\n",
       "    </tr>\n",
       "  </thead>\n",
       "  <tbody>\n",
       "    <tr>\n",
       "      <th>0</th>\n",
       "      <td>2858</td>\n",
       "      <td>3428</td>\n",
       "      <td>American Beauty (1999)</td>\n",
       "      <td>Comedy|Drama</td>\n",
       "    </tr>\n",
       "    <tr>\n",
       "      <th>1</th>\n",
       "      <td>260</td>\n",
       "      <td>2991</td>\n",
       "      <td>Star Wars: Episode IV - A New Hope (1977)</td>\n",
       "      <td>Action|Adventure|Fantasy|Sci-Fi</td>\n",
       "    </tr>\n",
       "    <tr>\n",
       "      <th>2</th>\n",
       "      <td>1196</td>\n",
       "      <td>2990</td>\n",
       "      <td>Star Wars: Episode V - The Empire Strikes Back...</td>\n",
       "      <td>Action|Adventure|Drama|Sci-Fi|War</td>\n",
       "    </tr>\n",
       "    <tr>\n",
       "      <th>3</th>\n",
       "      <td>1210</td>\n",
       "      <td>2883</td>\n",
       "      <td>Star Wars: Episode VI - Return of the Jedi (1983)</td>\n",
       "      <td>Action|Adventure|Romance|Sci-Fi|War</td>\n",
       "    </tr>\n",
       "    <tr>\n",
       "      <th>4</th>\n",
       "      <td>480</td>\n",
       "      <td>2672</td>\n",
       "      <td>Jurassic Park (1993)</td>\n",
       "      <td>Action|Adventure|Sci-Fi</td>\n",
       "    </tr>\n",
       "    <tr>\n",
       "      <th>5</th>\n",
       "      <td>2028</td>\n",
       "      <td>2653</td>\n",
       "      <td>Saving Private Ryan (1998)</td>\n",
       "      <td>Action|Drama|War</td>\n",
       "    </tr>\n",
       "    <tr>\n",
       "      <th>6</th>\n",
       "      <td>589</td>\n",
       "      <td>2649</td>\n",
       "      <td>Terminator 2: Judgment Day (1991)</td>\n",
       "      <td>Action|Sci-Fi|Thriller</td>\n",
       "    </tr>\n",
       "    <tr>\n",
       "      <th>7</th>\n",
       "      <td>2571</td>\n",
       "      <td>2590</td>\n",
       "      <td>Matrix, The (1999)</td>\n",
       "      <td>Action|Sci-Fi|Thriller</td>\n",
       "    </tr>\n",
       "    <tr>\n",
       "      <th>8</th>\n",
       "      <td>1270</td>\n",
       "      <td>2583</td>\n",
       "      <td>Back to the Future (1985)</td>\n",
       "      <td>Comedy|Sci-Fi</td>\n",
       "    </tr>\n",
       "    <tr>\n",
       "      <th>9</th>\n",
       "      <td>593</td>\n",
       "      <td>2578</td>\n",
       "      <td>Silence of the Lambs, The (1991)</td>\n",
       "      <td>Drama|Thriller</td>\n",
       "    </tr>\n",
       "  </tbody>\n",
       "</table>\n",
       "</div>"
      ],
      "text/plain": [
       "   movieID  freq                                              title  \\\n",
       "0     2858  3428                             American Beauty (1999)   \n",
       "1      260  2991          Star Wars: Episode IV - A New Hope (1977)   \n",
       "2     1196  2990  Star Wars: Episode V - The Empire Strikes Back...   \n",
       "3     1210  2883  Star Wars: Episode VI - Return of the Jedi (1983)   \n",
       "4      480  2672                               Jurassic Park (1993)   \n",
       "5     2028  2653                         Saving Private Ryan (1998)   \n",
       "6      589  2649                  Terminator 2: Judgment Day (1991)   \n",
       "7     2571  2590                                 Matrix, The (1999)   \n",
       "8     1270  2583                          Back to the Future (1985)   \n",
       "9      593  2578                   Silence of the Lambs, The (1991)   \n",
       "\n",
       "                                 genre  \n",
       "0                         Comedy|Drama  \n",
       "1      Action|Adventure|Fantasy|Sci-Fi  \n",
       "2    Action|Adventure|Drama|Sci-Fi|War  \n",
       "3  Action|Adventure|Romance|Sci-Fi|War  \n",
       "4              Action|Adventure|Sci-Fi  \n",
       "5                     Action|Drama|War  \n",
       "6               Action|Sci-Fi|Thriller  \n",
       "7               Action|Sci-Fi|Thriller  \n",
       "8                        Comedy|Sci-Fi  \n",
       "9                       Drama|Thriller  "
      ]
     },
     "execution_count": 320,
     "metadata": {},
     "output_type": "execute_result"
    }
   ],
   "source": [
    "get_most_rated(10)"
   ]
  },
  {
   "cell_type": "markdown",
   "id": "c1d0da3c",
   "metadata": {},
   "source": [
    "Now you have to find the movies that can be associated to the movie with id 3941. Calculate\n",
    "the Top 5 movies with the highest simple association value. Provide the movie ID,\n",
    "association value, and title for each."
   ]
  },
  {
   "cell_type": "code",
   "execution_count": 308,
   "id": "49221770",
   "metadata": {},
   "outputs": [
    {
     "data": {
      "text/html": [
       "<div>\n",
       "<style scoped>\n",
       "    .dataframe tbody tr th:only-of-type {\n",
       "        vertical-align: middle;\n",
       "    }\n",
       "\n",
       "    .dataframe tbody tr th {\n",
       "        vertical-align: top;\n",
       "    }\n",
       "\n",
       "    .dataframe thead th {\n",
       "        text-align: right;\n",
       "    }\n",
       "</style>\n",
       "<table border=\"1\" class=\"dataframe\">\n",
       "  <thead>\n",
       "    <tr style=\"text-align: right;\">\n",
       "      <th></th>\n",
       "      <th>movieID</th>\n",
       "      <th>simple</th>\n",
       "      <th>title</th>\n",
       "      <th>genre</th>\n",
       "    </tr>\n",
       "  </thead>\n",
       "  <tbody>\n",
       "    <tr>\n",
       "      <th>0</th>\n",
       "      <td>110</td>\n",
       "      <td>0.954545</td>\n",
       "      <td>Braveheart (1995)</td>\n",
       "      <td>Action|Drama|War</td>\n",
       "    </tr>\n",
       "    <tr>\n",
       "      <th>1</th>\n",
       "      <td>480</td>\n",
       "      <td>0.909091</td>\n",
       "      <td>Jurassic Park (1993)</td>\n",
       "      <td>Action|Adventure|Sci-Fi</td>\n",
       "    </tr>\n",
       "    <tr>\n",
       "      <th>2</th>\n",
       "      <td>589</td>\n",
       "      <td>0.863636</td>\n",
       "      <td>Terminator 2: Judgment Day (1991)</td>\n",
       "      <td>Action|Sci-Fi|Thriller</td>\n",
       "    </tr>\n",
       "    <tr>\n",
       "      <th>3</th>\n",
       "      <td>1544</td>\n",
       "      <td>0.818182</td>\n",
       "      <td>Lost World: Jurassic Park, The (1997)</td>\n",
       "      <td>Action|Adventure|Sci-Fi|Thriller</td>\n",
       "    </tr>\n",
       "    <tr>\n",
       "      <th>4</th>\n",
       "      <td>260</td>\n",
       "      <td>0.818182</td>\n",
       "      <td>Star Wars: Episode IV - A New Hope (1977)</td>\n",
       "      <td>Action|Adventure|Fantasy|Sci-Fi</td>\n",
       "    </tr>\n",
       "  </tbody>\n",
       "</table>\n",
       "</div>"
      ],
      "text/plain": [
       "   movieID    simple                                      title  \\\n",
       "0      110  0.954545                          Braveheart (1995)   \n",
       "1      480  0.909091                       Jurassic Park (1993)   \n",
       "2      589  0.863636          Terminator 2: Judgment Day (1991)   \n",
       "3     1544  0.818182      Lost World: Jurassic Park, The (1997)   \n",
       "4      260  0.818182  Star Wars: Episode IV - A New Hope (1977)   \n",
       "\n",
       "                              genre  \n",
       "0                  Action|Drama|War  \n",
       "1           Action|Adventure|Sci-Fi  \n",
       "2            Action|Sci-Fi|Thriller  \n",
       "3  Action|Adventure|Sci-Fi|Thriller  \n",
       "4   Action|Adventure|Fantasy|Sci-Fi  "
      ]
     },
     "execution_count": 308,
     "metadata": {},
     "output_type": "execute_result"
    }
   ],
   "source": [
    "highest_simple(3941,5)"
   ]
  },
  {
   "cell_type": "markdown",
   "id": "94fae70c",
   "metadata": {},
   "source": [
    "For the same movie as in question 10 (id 3941), calculate the Top 5 movies with the highest\n",
    "advanced association value. Provide the movie ID, association value, and title for each."
   ]
  },
  {
   "cell_type": "code",
   "execution_count": 309,
   "id": "8038cd91",
   "metadata": {},
   "outputs": [
    {
     "data": {
      "text/html": [
       "<div>\n",
       "<style scoped>\n",
       "    .dataframe tbody tr th:only-of-type {\n",
       "        vertical-align: middle;\n",
       "    }\n",
       "\n",
       "    .dataframe tbody tr th {\n",
       "        vertical-align: top;\n",
       "    }\n",
       "\n",
       "    .dataframe thead th {\n",
       "        text-align: right;\n",
       "    }\n",
       "</style>\n",
       "<table border=\"1\" class=\"dataframe\">\n",
       "  <thead>\n",
       "    <tr style=\"text-align: right;\">\n",
       "      <th></th>\n",
       "      <th>movieID</th>\n",
       "      <th>simple</th>\n",
       "      <th>title</th>\n",
       "      <th>genre</th>\n",
       "    </tr>\n",
       "  </thead>\n",
       "  <tbody>\n",
       "    <tr>\n",
       "      <th>0</th>\n",
       "      <td>3940</td>\n",
       "      <td>547.090909</td>\n",
       "      <td>Slumber Party Massacre III, The (1990)</td>\n",
       "      <td>Horror</td>\n",
       "    </tr>\n",
       "    <tr>\n",
       "      <th>1</th>\n",
       "      <td>3938</td>\n",
       "      <td>465.027273</td>\n",
       "      <td>Slumber Party Massacre, The (1982)</td>\n",
       "      <td>Horror</td>\n",
       "    </tr>\n",
       "    <tr>\n",
       "      <th>2</th>\n",
       "      <td>3939</td>\n",
       "      <td>437.672727</td>\n",
       "      <td>Slumber Party Massacre II, The (1987)</td>\n",
       "      <td>Horror</td>\n",
       "    </tr>\n",
       "    <tr>\n",
       "      <th>3</th>\n",
       "      <td>3942</td>\n",
       "      <td>422.752066</td>\n",
       "      <td>Sorority House Massacre II (1990)</td>\n",
       "      <td>Horror</td>\n",
       "    </tr>\n",
       "    <tr>\n",
       "      <th>4</th>\n",
       "      <td>3777</td>\n",
       "      <td>156.311688</td>\n",
       "      <td>Nekromantik (1987)</td>\n",
       "      <td>Comedy|Horror</td>\n",
       "    </tr>\n",
       "  </tbody>\n",
       "</table>\n",
       "</div>"
      ],
      "text/plain": [
       "   movieID      simple                                   title          genre\n",
       "0     3940  547.090909  Slumber Party Massacre III, The (1990)         Horror\n",
       "1     3938  465.027273      Slumber Party Massacre, The (1982)         Horror\n",
       "2     3939  437.672727   Slumber Party Massacre II, The (1987)         Horror\n",
       "3     3942  422.752066       Sorority House Massacre II (1990)         Horror\n",
       "4     3777  156.311688                      Nekromantik (1987)  Comedy|Horror"
      ]
     },
     "execution_count": 309,
     "metadata": {},
     "output_type": "execute_result"
    }
   ],
   "source": [
    "highest_advanced(3941,5)"
   ]
  },
  {
   "cell_type": "markdown",
   "id": "f18a0299",
   "metadata": {},
   "source": [
    "Compare the resulting lists of question 9 and 10. What do you witness and how can you\n",
    "explain this?"
   ]
  },
  {
   "cell_type": "markdown",
   "id": "d3d04d98",
   "metadata": {},
   "source": [
    "Compare the resulting lists of question 10 and 11. Which one is the best (=most accurate)\n",
    "according to you, and why?"
   ]
  },
  {
   "cell_type": "markdown",
   "id": "e31f36eb",
   "metadata": {},
   "source": [
    "Recalculate the Top 10 most frequently rated movies. But use only ratings of at least 4 stars.\n",
    "Provide the movie ID, number of users who rated the movie, and title for each."
   ]
  },
  {
   "cell_type": "code",
   "execution_count": 321,
   "id": "c2485332",
   "metadata": {},
   "outputs": [
    {
     "data": {
      "text/html": [
       "<div>\n",
       "<style scoped>\n",
       "    .dataframe tbody tr th:only-of-type {\n",
       "        vertical-align: middle;\n",
       "    }\n",
       "\n",
       "    .dataframe tbody tr th {\n",
       "        vertical-align: top;\n",
       "    }\n",
       "\n",
       "    .dataframe thead th {\n",
       "        text-align: right;\n",
       "    }\n",
       "</style>\n",
       "<table border=\"1\" class=\"dataframe\">\n",
       "  <thead>\n",
       "    <tr style=\"text-align: right;\">\n",
       "      <th></th>\n",
       "      <th>movieID</th>\n",
       "      <th>freq</th>\n",
       "      <th>title</th>\n",
       "      <th>genre</th>\n",
       "    </tr>\n",
       "  </thead>\n",
       "  <tbody>\n",
       "    <tr>\n",
       "      <th>0</th>\n",
       "      <td>2858</td>\n",
       "      <td>2853</td>\n",
       "      <td>American Beauty (1999)</td>\n",
       "      <td>Comedy|Drama</td>\n",
       "    </tr>\n",
       "    <tr>\n",
       "      <th>1</th>\n",
       "      <td>260</td>\n",
       "      <td>2622</td>\n",
       "      <td>Star Wars: Episode IV - A New Hope (1977)</td>\n",
       "      <td>Action|Adventure|Fantasy|Sci-Fi</td>\n",
       "    </tr>\n",
       "    <tr>\n",
       "      <th>2</th>\n",
       "      <td>1196</td>\n",
       "      <td>2510</td>\n",
       "      <td>Star Wars: Episode V - The Empire Strikes Back...</td>\n",
       "      <td>Action|Adventure|Drama|Sci-Fi|War</td>\n",
       "    </tr>\n",
       "    <tr>\n",
       "      <th>3</th>\n",
       "      <td>1198</td>\n",
       "      <td>2260</td>\n",
       "      <td>Raiders of the Lost Ark (1981)</td>\n",
       "      <td>Action|Adventure</td>\n",
       "    </tr>\n",
       "    <tr>\n",
       "      <th>4</th>\n",
       "      <td>2028</td>\n",
       "      <td>2260</td>\n",
       "      <td>Saving Private Ryan (1998)</td>\n",
       "      <td>Action|Drama|War</td>\n",
       "    </tr>\n",
       "    <tr>\n",
       "      <th>5</th>\n",
       "      <td>593</td>\n",
       "      <td>2252</td>\n",
       "      <td>Silence of the Lambs, The (1991)</td>\n",
       "      <td>Drama|Thriller</td>\n",
       "    </tr>\n",
       "    <tr>\n",
       "      <th>6</th>\n",
       "      <td>2571</td>\n",
       "      <td>2171</td>\n",
       "      <td>Matrix, The (1999)</td>\n",
       "      <td>Action|Sci-Fi|Thriller</td>\n",
       "    </tr>\n",
       "    <tr>\n",
       "      <th>7</th>\n",
       "      <td>2762</td>\n",
       "      <td>2163</td>\n",
       "      <td>Sixth Sense, The (1999)</td>\n",
       "      <td>Thriller</td>\n",
       "    </tr>\n",
       "    <tr>\n",
       "      <th>8</th>\n",
       "      <td>1210</td>\n",
       "      <td>2127</td>\n",
       "      <td>Star Wars: Episode VI - Return of the Jedi (1983)</td>\n",
       "      <td>Action|Adventure|Romance|Sci-Fi|War</td>\n",
       "    </tr>\n",
       "    <tr>\n",
       "      <th>9</th>\n",
       "      <td>608</td>\n",
       "      <td>2074</td>\n",
       "      <td>Fargo (1996)</td>\n",
       "      <td>Crime|Drama|Thriller</td>\n",
       "    </tr>\n",
       "  </tbody>\n",
       "</table>\n",
       "</div>"
      ],
      "text/plain": [
       "   movieID  freq                                              title  \\\n",
       "0     2858  2853                             American Beauty (1999)   \n",
       "1      260  2622          Star Wars: Episode IV - A New Hope (1977)   \n",
       "2     1196  2510  Star Wars: Episode V - The Empire Strikes Back...   \n",
       "3     1198  2260                     Raiders of the Lost Ark (1981)   \n",
       "4     2028  2260                         Saving Private Ryan (1998)   \n",
       "5      593  2252                   Silence of the Lambs, The (1991)   \n",
       "6     2571  2171                                 Matrix, The (1999)   \n",
       "7     2762  2163                            Sixth Sense, The (1999)   \n",
       "8     1210  2127  Star Wars: Episode VI - Return of the Jedi (1983)   \n",
       "9      608  2074                                       Fargo (1996)   \n",
       "\n",
       "                                 genre  \n",
       "0                         Comedy|Drama  \n",
       "1      Action|Adventure|Fantasy|Sci-Fi  \n",
       "2    Action|Adventure|Drama|Sci-Fi|War  \n",
       "3                     Action|Adventure  \n",
       "4                     Action|Drama|War  \n",
       "5                       Drama|Thriller  \n",
       "6               Action|Sci-Fi|Thriller  \n",
       "7                             Thriller  \n",
       "8  Action|Adventure|Romance|Sci-Fi|War  \n",
       "9                 Crime|Drama|Thriller  "
      ]
     },
     "execution_count": 321,
     "metadata": {},
     "output_type": "execute_result"
    }
   ],
   "source": [
    "get_most_rated_with_least_rating(10,4)"
   ]
  },
  {
   "cell_type": "markdown",
   "id": "85033566",
   "metadata": {},
   "source": [
    "Compare the resulting lists of question 9 and 14. What do you witness and how can you\n",
    "explain this?"
   ]
  },
  {
   "cell_type": "code",
   "execution_count": null,
   "id": "cbfdcd4b",
   "metadata": {},
   "outputs": [],
   "source": []
  }
 ],
 "metadata": {
  "kernelspec": {
   "display_name": "Python 3 (ipykernel)",
   "language": "python",
   "name": "python3"
  },
  "language_info": {
   "codemirror_mode": {
    "name": "ipython",
    "version": 3
   },
   "file_extension": ".py",
   "mimetype": "text/x-python",
   "name": "python",
   "nbconvert_exporter": "python",
   "pygments_lexer": "ipython3",
   "version": "3.9.13"
  }
 },
 "nbformat": 4,
 "nbformat_minor": 5
}
