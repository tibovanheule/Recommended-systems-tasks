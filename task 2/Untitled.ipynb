{
 "cells": [
  {
   "cell_type": "code",
   "execution_count": 25,
   "metadata": {},
   "outputs": [],
   "source": [
    "import pandas as pd\n",
    "import numpy as np\n",
    "from functools import lru_cache\n",
    "from pathlib import Path\n",
    "\n",
    "def read_dat_files():\n",
    "    R = pd.read_csv(\"ratings.csv\",names=[\"userID\",\"movieID\",\"rating\",\"timestamp\"],skiprows=1)\n",
    "    I = pd.read_csv(\"movies.csv\",names=[\"movieID\",\"title\",\"genre\"],skiprows=1)\n",
    "    U = pd.read_csv(\"tags.csv\",skiprows=1)\n",
    "    return R, I, U \n",
    "\n",
    "R, I, U = read_dat_files()"
   ]
  },
  {
   "cell_type": "code",
   "execution_count": 26,
   "metadata": {},
   "outputs": [],
   "source": [
    "R[\"rating\"] = np.array(R[\"rating\"],dtype=float) - 3.0"
   ]
  },
  {
   "cell_type": "code",
   "execution_count": 34,
   "metadata": {},
   "outputs": [
    {
     "name": "stdout",
     "output_type": "stream",
     "text": [
      "userID\n",
      "movieID\n",
      "rating\n",
      "timestamp\n",
      "title\n",
      "genre\n"
     ]
    }
   ],
   "source": [
    "def create_movie_per_genre()->pd.DataFrame:\n",
    "    if Path(\"./movies_genres.csv\").isfile():\n",
    "        return pd.read_csv(\"./movies_genres.csv\",skiprows=1);\n",
    "    R_I = pd.merge(R,I,how=\"inner\",on=\"movieID\")\n",
    "    \n",
    "    for i in R_I.rows:\n",
    "        genre\n",
    "    "
   ]
  },
  {
   "cell_type": "code",
   "execution_count": null,
   "metadata": {},
   "outputs": [],
   "source": []
  }
 ],
 "metadata": {
  "kernelspec": {
   "display_name": "Python 3",
   "language": "python",
   "name": "python3"
  },
  "language_info": {
   "codemirror_mode": {
    "name": "ipython",
    "version": 3
   },
   "file_extension": ".py",
   "mimetype": "text/x-python",
   "name": "python",
   "nbconvert_exporter": "python",
   "pygments_lexer": "ipython3",
   "version": "3.7.10"
  }
 },
 "nbformat": 4,
 "nbformat_minor": 4
}
