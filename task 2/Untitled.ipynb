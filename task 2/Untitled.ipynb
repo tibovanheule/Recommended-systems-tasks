{
 "cells": [
  {
   "cell_type": "code",
   "execution_count": null,
   "metadata": {},
   "outputs": [],
   "source": [
    "__author__ = \"Tibo Vanheule\"\n",
    "@author = \"Tibo Vanheule\""
   ]
  },
  {
   "cell_type": "code",
   "execution_count": 3,
   "metadata": {},
   "outputs": [
    {
     "name": "stderr",
     "output_type": "stream",
     "text": [
      "INFO:root:reading\n",
      "INFO:root:Done reading\n"
     ]
    }
   ],
   "source": [
    "import pandas as pd\n",
    "import numpy as np\n",
    "import logging\n",
    "from functools import lru_cache\n",
    "from pathlib import Path\n",
    "\n",
    "logging.getLogger().setLevel(logging.INFO)\n",
    "\n",
    "def read_dat_files(scaling=False):\n",
    "    logging.info(\"reading\")\n",
    "    R = pd.read_csv(\"ratings.csv\",names=[\"userID\",\"movieID\",\"rating\",\"timestamp\"],skiprows=1)\n",
    "    I = pd.read_csv(\"movies.csv\",names=[\"movieID\",\"title\",\"genre\"],skiprows=1)\n",
    "    U = pd.read_csv(\"tags.csv\",skiprows=1)\n",
    "    logging.info(\"Done reading\")\n",
    "    \n",
    "    if scaling:\n",
    "        logging.info(\"scaling\")\n",
    "        R[\"rating\"] = np.array(R[\"rating\"],dtype=float) - 3.0\n",
    "        logging.info(\"Done scaling\")\n",
    "    return R, I, U \n",
    "\n",
    "R, I, U = read_dat_files()"
   ]
  },
  {
   "cell_type": "code",
   "execution_count": 247,
   "metadata": {},
   "outputs": [],
   "source": [
    "def create_movie_per_genre()->pd.DataFrame:\n",
    "    file = Path(\"./movies_genres.csv\")\n",
    "    if file.is_file():\n",
    "        logging.debug(\"create_movie_per_genre: file does exist\")\n",
    "        return pd.read_csv(file);\n",
    "    logging.debug(\"create_movie_per_genre: file does not exist\")\n",
    "    R_I = pd.merge(R,I,how=\"inner\",on=\"movieID\")\n",
    "    retval = pd.DataFrame()\n",
    "    for i, row in R_I.iterrows():\n",
    "        logging.debug(i/len(R_I))\n",
    "        genres = row.genre.split(\"|\")\n",
    "        for genre in genres:\n",
    "            row[\"genre\"] = genre\n",
    "            retval = pd.concat([retval,pd.DataFrame(row).T], ignore_index=True)\n",
    "    retval.to_csv(file)\n",
    "    logging.debug(retval)\n",
    "    return retval\n",
    "    \n",
    "data = create_movie_per_genre()"
   ]
  },
  {
   "cell_type": "code",
   "execution_count": 128,
   "metadata": {},
   "outputs": [
    {
     "name": "stderr",
     "output_type": "stream",
     "text": [
      "INFO:root:Popularity of genres: \n",
      "INFO:root:{'(no genres listed)': 17, 'Film-Noir': 121, 'IMAX': 153, 'Western': 168, 'War': 366, 'Musical': 394, 'Animation': 447, 'Documentary': 487, 'Mystery': 537, 'Children': 582, 'Fantasy': 653, 'Sci-Fi': 791, 'Horror': 872, 'Crime': 1092, 'Adventure': 1116, 'Romance': 1541, 'Action': 1543, 'Thriller': 1717, 'Comedy': 3307, 'Drama': 4328}\n"
     ]
    }
   ],
   "source": [
    "logging.info(\"Popularity of genres: \")\n",
    "test = {}\n",
    "for i, d in data.groupby(\"genre\"):\n",
    "    test[i] = len(set(d.movieID))\n",
    "logging.info({k: v for k, v in sorted(test.items(), key=lambda item: item[1])})"
   ]
  },
  {
   "cell_type": "code",
   "execution_count": 129,
   "metadata": {
    "scrolled": true
   },
   "outputs": [
    {
     "name": "stderr",
     "output_type": "stream",
     "text": [
      "INFO:root:avarage, min and max genres of movies: \n",
      "INFO:root:max: 10, min: 1, mean: 2.2316346790205164\n"
     ]
    }
   ],
   "source": [
    "logging.info(\"avarage, min and max genres of movies: \")\n",
    "test = []\n",
    "for i, d in data.groupby(\"movieID\"):\n",
    "    test.append(len(set(d.genre)))\n",
    "    if (len(set(d.genre)) ==10):\n",
    "        logging.debug(d)\n",
    "logging.info(\"max: %s, min: %s, mean: %s\", np.max(test),np.min(test),np.mean(test))"
   ]
  },
  {
   "cell_type": "code",
   "execution_count": 130,
   "metadata": {},
   "outputs": [
    {
     "name": "stderr",
     "output_type": "stream",
     "text": [
      "INFO:root:       Unnamed: 0  userID  movieID  rating   timestamp  \\\n",
      "48404       48404     289     1125     0.0  1328935470   \n",
      "48405       48405     289     1125     0.0  1328935470   \n",
      "\n",
      "                                        title   genre  \n",
      "48404  Return of the Pink Panther, The (1975)  Comedy  \n",
      "48405  Return of the Pink Panther, The (1975)   Crime  \n"
     ]
    }
   ],
   "source": [
    "logging.info(data[(data.userID == 289) & (data.movieID == 1125)])"
   ]
  },
  {
   "cell_type": "code",
   "execution_count": 131,
   "metadata": {},
   "outputs": [],
   "source": [
    "def create_user_profile(userID,data):\n",
    "    data = data[data.userID==userID]\n",
    "    return data.groupby(\"genre\").rating.sum()"
   ]
  },
  {
   "cell_type": "code",
   "execution_count": 132,
   "metadata": {},
   "outputs": [],
   "source": [
    "logging.debug(create_user_profile(1,data))"
   ]
  },
  {
   "cell_type": "code",
   "execution_count": 133,
   "metadata": {},
   "outputs": [
    {
     "name": "stderr",
     "output_type": "stream",
     "text": [
      "INFO:root: genres: {'Romance', 'Fantasy', 'Thriller', 'Musical', 'Crime', 'War', 'Western', 'Film-Noir', 'IMAX', 'Action', 'Documentary', 'Drama', 'Mystery', 'Children', 'Adventure', 'Animation', '(no genres listed)', 'Comedy', 'Sci-Fi', 'Horror'}\n"
     ]
    }
   ],
   "source": [
    "logging.info(\" genres: %s\",set(data.genre))"
   ]
  },
  {
   "cell_type": "code",
   "execution_count": 134,
   "metadata": {},
   "outputs": [],
   "source": [
    "def get_possible_genres():\n",
    "    return set(data[data.genre != \"(no genres listed)\"].genre)"
   ]
  },
  {
   "cell_type": "code",
   "execution_count": 45,
   "metadata": {},
   "outputs": [
    {
     "name": "stderr",
     "output_type": "stream",
     "text": [
      "INFO:root:how many is gonna deleted:         Unnamed: 0  userID  movieID  rating   timestamp  \\\n",
      "231254      231254      56   128620     2.0  1467003913   \n",
      "231296      231296      56   160590     2.0  1467095789   \n",
      "238764      238764      73   141866     1.0  1469772876   \n",
      "250916      250916     200   136592    -1.5  1438020227   \n",
      "256197      256197     287   117192     2.0  1473445036   \n",
      "256198      256198     402   117192     1.5  1462945915   \n",
      "257396      257396     299    83829     1.5  1344180332   \n",
      "258261      258261     324   149532     0.0  1451519751   \n",
      "258997      258997     371   122888     2.0  1473624419   \n",
      "261375      261375     457   126106     0.5  1471409573   \n",
      "263825      263825     547   134025     0.0  1432654721   \n",
      "263854      263854     547   151307     1.5  1472400501   \n",
      "264157      264157     572   132952     1.0  1436466718   \n",
      "265130      265130     624   129250    -2.5  1447868930   \n",
      "265202      265202     624   143410    -1.0  1474224802   \n",
      "265307      265307     648   128616     1.0  1426357951   \n",
      "265448      265448     652   140753     1.0  1439587070   \n",
      "265457      265457     652   140763     2.0  1439587331   \n",
      "\n",
      "                                            title               genre  \n",
      "231254                            Victoria (2015)  (no genres listed)  \n",
      "231296                 Survive and Advance (2013)  (no genres listed)  \n",
      "238764                          Green Room (2015)  (no genres listed)  \n",
      "250916                       Freaky Friday (1995)  (no genres listed)  \n",
      "256197  Doctor Who: The Time of the Doctor (2013)  (no genres listed)  \n",
      "256198  Doctor Who: The Time of the Doctor (2013)  (no genres listed)  \n",
      "257396                      Scorpio Rising (1964)  (no genres listed)  \n",
      "258261        Marco Polo: One Hundred Eyes (2015)  (no genres listed)  \n",
      "258997                             Ben-hur (2016)  (no genres listed)  \n",
      "261375              Beastie Boys: Sabotage (1994)  (no genres listed)  \n",
      "263825                         Open Secret (2013)  (no genres listed)  \n",
      "263854                  The Lovers and the Despot  (no genres listed)  \n",
      "264157                           Sarfarosh (1999)  (no genres listed)  \n",
      "265130                          Superfast! (2015)  (no genres listed)  \n",
      "265202                                 Hyena Road  (no genres listed)  \n",
      "265307                 As We Were Dreaming (2015)  (no genres listed)  \n",
      "265448                   The Men Next Door (2012)  (no genres listed)  \n",
      "265457                           Boy Crazy (2009)  (no genres listed)  \n"
     ]
    }
   ],
   "source": [
    "logging.info(\"how many is gonna deleted: %s\", data[data.genre=='(no genres listed)'])"
   ]
  },
  {
   "cell_type": "code",
   "execution_count": null,
   "metadata": {},
   "outputs": [],
   "source": [
    "possible_genre = ['Romance',\n",
    " 'Fantasy',\n",
    " 'Thriller',\n",
    " 'Musical',\n",
    " 'Crime',\n",
    " 'War',\n",
    " 'Western',\n",
    " 'Film-Noir',\n",
    " 'IMAX',\n",
    " 'Action',\n",
    " 'Documentary',\n",
    " 'Drama',\n",
    " 'Mystery',\n",
    " 'Children',\n",
    " 'Adventure',\n",
    " 'Animation',\n",
    " 'Comedy',\n",
    " 'Sci-Fi',\n",
    " 'Horror']"
   ]
  },
  {
   "cell_type": "code",
   "execution_count": 167,
   "metadata": {},
   "outputs": [],
   "source": [
    "def dot(movieId,userID):\n",
    "    u = create_user_profile(userID,data)\n",
    "    genres = list(set(data[data.movieID==movieId].genre))\n",
    "    logging.debug(genres)\n",
    "    for genre in possible_genre:\n",
    "        if genre not in genres:\n",
    "            u[genre] = 0\n",
    "    return u.sum()\n",
    "logging.debug(dot(5679,526))"
   ]
  },
  {
   "cell_type": "code",
   "execution_count": 83,
   "metadata": {},
   "outputs": [
    {
     "name": "stderr",
     "output_type": "stream",
     "text": [
      "INFO:root:\\begin{tabular}{rrll}\n",
      "\\toprule\n",
      " movieID &  rating &                                              title &                                             genre \\\\\n",
      "\\midrule\n",
      "    7153 &     0.5 & Lord of the Rings: The Return of the King, The ... &                    Action|Adventure|Drama|Fantasy \\\\\n",
      "    4995 &     2.0 &                           Beautiful Mind, A (2001) &                                     Drama|Romance \\\\\n",
      "    5679 &     1.0 &                                   Ring, The (2002) &                           Horror|Mystery|Thriller \\\\\n",
      "    6373 &     1.0 &                              Bruce Almighty (2003) &                      Comedy|Drama|Fantasy|Romance \\\\\n",
      "    8644 &     0.5 &                                    I, Robot (2004) &                  Action|Adventure|Sci-Fi|Thriller \\\\\n",
      "    8368 &     1.0 &    Harry Potter and the Prisoner of Azkaban (2004) &                            Adventure|Fantasy|IMAX \\\\\n",
      "       1 &     1.0 &                                   Toy Story (1995) &       Adventure|Animation|Children|Comedy|Fantasy \\\\\n",
      "    4226 &     1.0 &                                     Memento (2000) &                                  Mystery|Thriller \\\\\n",
      "    4973 &     0.5 & Amelie (Fabuleux destin d'Amélie Poulain, Le) (... &                                    Comedy|Romance \\\\\n",
      "    5445 &     2.0 &                             Minority Report (2002) &              Action|Crime|Mystery|Sci-Fi|Thriller \\\\\n",
      "   79132 &     1.0 &                                   Inception (2010) &   Action|Crime|Drama|Mystery|Sci-Fi|Thriller|IMAX \\\\\n",
      "    1653 &     1.0 &                                     Gattaca (1997) &                             Drama|Sci-Fi|Thriller \\\\\n",
      "    4370 &     1.5 &                A.I. Artificial Intelligence (2001) &                            Adventure|Drama|Sci-Fi \\\\\n",
      "    4720 &     1.0 &                                 Others, The (2001) &                     Drama|Horror|Mystery|Thriller \\\\\n",
      "    5502 &     1.5 &                                       Signs (2002) &                            Horror|Sci-Fi|Thriller \\\\\n",
      "    6333 &     1.0 &                            X2: X-Men United (2003) &                  Action|Adventure|Sci-Fi|Thriller \\\\\n",
      "    8961 &     1.0 &                            Incredibles, The (2004) &        Action|Adventure|Animation|Children|Comedy \\\\\n",
      "   50872 &     1.5 &                                 Ratatouille (2007) &                          Animation|Children|Drama \\\\\n",
      "   60069 &     1.5 &                                      WALL·E (2008) &       Adventure|Animation|Children|Romance|Sci-Fi \\\\\n",
      "   85414 &     0.0 &                                 Source Code (2011) &              Action|Drama|Mystery|Sci-Fi|Thriller \\\\\n",
      "   88744 &     1.0 &              Rise of the Planet of the Apes (2011) &                      Action|Drama|Sci-Fi|Thriller \\\\\n",
      "   91658 &     1.0 &            Girl with the Dragon Tattoo, The (2011) &                                    Drama|Thriller \\\\\n",
      "  109487 &     2.0 &                                Interstellar (2014) &                                       Sci-Fi|IMAX \\\\\n",
      "  112556 &     1.0 &                                   Gone Girl (2014) &                                    Drama|Thriller \\\\\n",
      "  134853 &     1.5 &                                  Inside Out (2015) & Adventure|Animation|Children|Comedy|Drama|Fantasy \\\\\n",
      "   47099 &     0.5 &                   Pursuit of Happyness, The (2006) &                                             Drama \\\\\n",
      "   39427 &     1.5 &                                        Stay (2005) &                                          Thriller \\\\\n",
      "\\bottomrule\n",
      "\\end{tabular}\n",
      "\n"
     ]
    }
   ],
   "source": [
    "def user526():\n",
    "    R_I2 = pd.merge(R,I,how=\"inner\",on=\"movieID\")\n",
    "    del R_I2[\"timestamp\"]\n",
    "    \n",
    "    R_I2 = R_I2[R_I2.userID==526]\n",
    "    del R_I2[\"userID\"]\n",
    "    return R_I2\n",
    "logging.info(user526().to_latex(index=False))"
   ]
  },
  {
   "cell_type": "code",
   "execution_count": 62,
   "metadata": {},
   "outputs": [
    {
     "name": "stderr",
     "output_type": "stream",
     "text": [
      "INFO:root:user 526 scaled ratings: mean: 1.1111111111111112, median: 1.0\n",
      "INFO:root:user 526 positive: 26\n",
      "INFO:root:user 526 negative: 0\n",
      "INFO:root:user 526 neutral: 1\n",
      "INFO:root:user 526 scaled ratings: mean: 4.111111111111111, median: 4.0\n"
     ]
    }
   ],
   "source": [
    "user526_ratings = (user526().rating)\n",
    "logging.info(\"user 526 scaled ratings: mean: %s, median: %s\",np.mean(user526_ratings), np.median(user526_ratings))\n",
    "logging.info(\"user 526 positive: %s\",len(user526_ratings[user526_ratings>0]))\n",
    "logging.info(\"user 526 negative: %s\",len(user526_ratings[user526_ratings<0]))\n",
    "logging.info(\"user 526 neutral: %s\",len(user526_ratings[user526_ratings==0]))\n",
    "user526_ratings = (user526().rating+3)\n",
    "logging.info(\"user 526 scaled ratings: mean: %s, median: %s\",np.mean(user526_ratings), np.median(user526_ratings))\n"
   ]
  },
  {
   "cell_type": "code",
   "execution_count": 67,
   "metadata": {},
   "outputs": [
    {
     "name": "stderr",
     "output_type": "stream",
     "text": [
      "INFO:root:\\begin{tabular}{lr}\n",
      "\\toprule\n",
      "{} &  rating \\\\\n",
      "genre     &         \\\\\n",
      "\\midrule\n",
      "Action    &     7.0 \\\\\n",
      "Adventure &     9.5 \\\\\n",
      "Animation &     6.5 \\\\\n",
      "Children  &     6.5 \\\\\n",
      "Comedy    &     5.0 \\\\\n",
      "Crime     &     3.0 \\\\\n",
      "Drama     &    14.5 \\\\\n",
      "Fantasy   &     5.0 \\\\\n",
      "Horror    &     3.5 \\\\\n",
      "IMAX      &     4.0 \\\\\n",
      "Mystery   &     6.0 \\\\\n",
      "Romance   &     5.0 \\\\\n",
      "Sci-Fi    &    13.0 \\\\\n",
      "Thriller  &    14.5 \\\\\n",
      "\\bottomrule\n",
      "\\end{tabular}\n",
      "\n"
     ]
    }
   ],
   "source": [
    "logging.info(create_user_profile(526,data).to_latex())"
   ]
  },
  {
   "cell_type": "code",
   "execution_count": 168,
   "metadata": {},
   "outputs": [],
   "source": [
    "five_rec = {}\n",
    "for i in set(data.movieID):\n",
    "    five_rec[i] = dot(i,526)\n",
    "five_rec = {k: v for k, v in sorted(five_rec.items(), key=lambda item: item[1])}"
   ]
  },
  {
   "cell_type": "code",
   "execution_count": 169,
   "metadata": {},
   "outputs": [
    {
     "name": "stderr",
     "output_type": "stream",
     "text": [
      "INFO:root:movieID: 5018, recomdation score: 70.5\n",
      "INFO:root:movieID: 6902, recomdation score: 67.5\n",
      "INFO:root:movieID: 26701, recomdation score: 64.5\n",
      "INFO:root:movieID: 43932, recomdation score: 63.5\n",
      "INFO:root:movieID: 81132, recomdation score: 63.0\n"
     ]
    }
   ],
   "source": [
    "for i in sorted(five_rec.items(), key=lambda item: -item[1])[:5]:\n",
    "    logging.info(\"movieID: %s, recomdation score: %s\",i[0],i[1])"
   ]
  },
  {
   "cell_type": "code",
   "execution_count": 191,
   "metadata": {
    "scrolled": true
   },
   "outputs": [
    {
     "name": "stderr",
     "output_type": "stream",
     "text": [
      "INFO:root:\\begin{tabular}{rll}\n",
      "\\toprule\n",
      " movieID &                                              title &                                              genre \\\\\n",
      "\\midrule\n",
      "    6902 &                               Interstate 60 (2002) & Adventure|Comedy|Drama|Fantasy|Mystery|Sci-Fi|T... \\\\\n",
      "    6902 &                               Interstate 60 (2002) & Adventure|Comedy|Drama|Fantasy|Mystery|Sci-Fi|T... \\\\\n",
      "    6902 &                               Interstate 60 (2002) & Adventure|Comedy|Drama|Fantasy|Mystery|Sci-Fi|T... \\\\\n",
      "   26701 & Patlabor: The Movie (Kidô keisatsu patorebâ: Th... & Action|Animation|Crime|Drama|Film-Noir|Mystery|... \\\\\n",
      "   81132 &                                      Rubber (2010) & Action|Adventure|Comedy|Crime|Drama|Film-Noir|H... \\\\\n",
      "   43932 &                                       Pulse (2006) & Action|Drama|Fantasy|Horror|Mystery|Sci-Fi|Thri... \\\\\n",
      "    5018 &                                    Motorama (1991) & Adventure|Comedy|Crime|Drama|Fantasy|Mystery|Sc... \\\\\n",
      "\\bottomrule\n",
      "\\end{tabular}\n",
      "\n"
     ]
    }
   ],
   "source": [
    "R_I = pd.merge(R,I,how=\"inner\",on=\"movieID\")\n",
    "df = R_I[(R_I.movieID==5018)|(R_I.movieID==6902)|(R_I.movieID==26701)|(R_I.movieID==43932)|(R_I.movieID==81132)]\n",
    "del df[\"userID\"]\n",
    "del df[\"timestamp\"]\n",
    "del df[\"rating\"]\n",
    "logging.info(df.to_latex(index=False))"
   ]
  },
  {
   "cell_type": "code",
   "execution_count": 248,
   "metadata": {},
   "outputs": [],
   "source": [
    "def dot_part2(movieId,userID):\n",
    "    data = create_movie_per_genre()\n",
    "    user = data[data.userID==userID]\n",
    "    test = pd.DataFrame()\n",
    "    for i,d in user.iterrows():\n",
    "        len_genres = len(list(set(user[user.movieID==d.movieID].genre)))\n",
    "        d.rating = (d.rating ) /np.sqrt(len_genres)\n",
    "        test = test.append(d)\n",
    "    u = test.groupby(\"genre\").rating.sum()\n",
    "    genres = list(set(data[data.movieID==movieId].genre))\n",
    "    logging.debug(u)\n",
    "    for genre in possible_genre:\n",
    "        if genre not in genres:\n",
    "            u[genre] = 0\n",
    "        if genre in u:\n",
    "            u[genre] *= 1/np.sqrt(len(genres))\n",
    "    return u.sum()\n",
    "logging.debug(dot_part2(52328,526))"
   ]
  },
  {
   "cell_type": "code",
   "execution_count": 244,
   "metadata": {
    "collapsed": true
   },
   "outputs": [
    {
     "name": "stderr",
     "output_type": "stream",
     "text": [
      "INFO:root:create_movie_per_genre: file does exist\n",
      "INFO:root:genre\n",
      "Action       3.219605\n",
      "Adventure    4.620996\n",
      "Animation    3.043645\n",
      "Children     3.043645\n",
      "Comedy       2.360353\n",
      "Crime        1.272392\n",
      "Drama        8.378165\n",
      "Fantasy      2.386936\n",
      "Horror       1.943376\n",
      "IMAX         2.369528\n",
      "Mystery      3.056849\n",
      "Romance      2.938587\n",
      "Sci-Fi       6.916827\n",
      "Thriller     8.664438\n",
      "Name: rating, dtype: float64\n",
      "INFO:root:create_movie_per_genre: file does exist\n",
      "INFO:root:genre\n",
      "Action       3.219605\n",
      "Adventure    4.620996\n",
      "Animation    3.043645\n",
      "Children     3.043645\n",
      "Comedy       2.360353\n",
      "Crime        1.272392\n",
      "Drama        8.378165\n",
      "Fantasy      2.386936\n",
      "Horror       1.943376\n",
      "IMAX         2.369528\n",
      "Mystery      3.056849\n",
      "Romance      2.938587\n",
      "Sci-Fi       6.916827\n",
      "Thriller     8.664438\n",
      "Name: rating, dtype: float64\n",
      "INFO:root:create_movie_per_genre: file does exist\n",
      "INFO:root:genre\n",
      "Action       3.219605\n",
      "Adventure    4.620996\n",
      "Animation    3.043645\n",
      "Children     3.043645\n",
      "Comedy       2.360353\n",
      "Crime        1.272392\n",
      "Drama        8.378165\n",
      "Fantasy      2.386936\n",
      "Horror       1.943376\n",
      "IMAX         2.369528\n",
      "Mystery      3.056849\n",
      "Romance      2.938587\n",
      "Sci-Fi       6.916827\n",
      "Thriller     8.664438\n",
      "Name: rating, dtype: float64\n",
      "INFO:root:create_movie_per_genre: file does exist\n",
      "INFO:root:genre\n",
      "Action       3.219605\n",
      "Adventure    4.620996\n",
      "Animation    3.043645\n",
      "Children     3.043645\n",
      "Comedy       2.360353\n",
      "Crime        1.272392\n",
      "Drama        8.378165\n",
      "Fantasy      2.386936\n",
      "Horror       1.943376\n",
      "IMAX         2.369528\n",
      "Mystery      3.056849\n",
      "Romance      2.938587\n",
      "Sci-Fi       6.916827\n",
      "Thriller     8.664438\n",
      "Name: rating, dtype: float64\n",
      "INFO:root:create_movie_per_genre: file does exist\n",
      "INFO:root:genre\n",
      "Action       3.219605\n",
      "Adventure    4.620996\n",
      "Animation    3.043645\n",
      "Children     3.043645\n",
      "Comedy       2.360353\n",
      "Crime        1.272392\n",
      "Drama        8.378165\n",
      "Fantasy      2.386936\n",
      "Horror       1.943376\n",
      "IMAX         2.369528\n",
      "Mystery      3.056849\n",
      "Romance      2.938587\n",
      "Sci-Fi       6.916827\n",
      "Thriller     8.664438\n",
      "Name: rating, dtype: float64\n"
     ]
    }
   ],
   "source": [
    "five_rec = {}\n",
    "for i in set(data.movieID):\n",
    "    five_rec[i] = dot_part2(i,526)\n",
    "five_rec = {k: v for k, v in sorted(five_rec.items(), key=lambda item: -item[1])}"
   ]
  },
  {
   "cell_type": "code",
   "execution_count": 249,
   "metadata": {
    "scrolled": true
   },
   "outputs": [
    {
     "name": "stderr",
     "output_type": "stream",
     "text": [
      "INFO:root:movieID: 52328, recomdation score: 14.29021272462629\n",
      "INFO:root:movieID: 8361, recomdation score: 14.221406070274387\n",
      "INFO:root:movieID: 48774, recomdation score: 14.221406070274387\n",
      "INFO:root:movieID: 58025, recomdation score: 14.221406070274387\n",
      "INFO:root:movieID: 91500, recomdation score: 14.221406070274387\n"
     ]
    }
   ],
   "source": [
    "for i in sorted(five_rec.items(), key=lambda item: -item[1])[:5]:\n",
    "    logging.info(\"movieID: %s, recomdation score: %s\",i[0],i[1])"
   ]
  },
  {
   "cell_type": "code",
   "execution_count": 283,
   "metadata": {},
   "outputs": [],
   "source": [
    "\n",
    "df = I[(I.movieID==8361)|(I.movieID==48774)|(I.movieID==52328)|(I.movieID==58025)|(I.movieID==91500)]\n",
    "\n",
    "logging.debug(df.to_latex(index=False))"
   ]
  },
  {
   "cell_type": "code",
   "execution_count": 282,
   "metadata": {},
   "outputs": [],
   "source": [
    "def user14():\n",
    "    R_I2 = pd.merge(R,I,how=\"inner\",on=\"movieID\")\n",
    "    del R_I2[\"timestamp\"]\n",
    "    R_I2 = R_I2[R_I2.userID==14]\n",
    "    del R_I2[\"userID\"]\n",
    "    return R_I2\n",
    "logging.debug(user14().to_latex(index=False))"
   ]
  },
  {
   "cell_type": "code",
   "execution_count": 197,
   "metadata": {},
   "outputs": [
    {
     "name": "stderr",
     "output_type": "stream",
     "text": [
      "INFO:root:user 14 scaled ratings: mean: -0.05, median: 0.0\n",
      "INFO:root:user 14 positive: 5\n",
      "INFO:root:user 14 negative: 6\n",
      "INFO:root:user 14 neutral: 9\n",
      "INFO:root:user 14 ratings: mean: 2.95, median: 3.0\n"
     ]
    }
   ],
   "source": [
    "user14_ratings = (user14().rating)\n",
    "logging.info(\"user 14 scaled ratings: mean: %s, median: %s\",np.mean(user14_ratings), np.median(user14_ratings))\n",
    "logging.info(\"user 14 positive: %s\",len(user14_ratings[user14_ratings>0]))\n",
    "logging.info(\"user 14 negative: %s\",len(user14_ratings[user14_ratings<0]))\n",
    "logging.info(\"user 14 neutral: %s\",len(user14_ratings[user14_ratings==0]))\n",
    "user14_ratings = (user14().rating+3)\n",
    "logging.info(\"user 14 ratings: mean: %s, median: %s\",np.mean(user14_ratings), np.median(user14_ratings))"
   ]
  },
  {
   "cell_type": "code",
   "execution_count": 251,
   "metadata": {},
   "outputs": [],
   "source": [
    "five_rec_14 = {}\n",
    "for i in set(data.movieID):\n",
    "    five_rec_14[i] = dot_part2(i,14)\n",
    "for i in sorted(five_rec_14.items(), key=lambda item: -item[1])[:5]:\n",
    "    logging.info(\"movieID: %s, recomdation score: %s\",i[0],i[1])"
   ]
  },
  {
   "cell_type": "code",
   "execution_count": 272,
   "metadata": {},
   "outputs": [],
   "source": [
    "\n",
    "df = I[(I.movieID==2311)|(I.movieID==2526)|(I.movieID==2661)|(I.movieID==3354)|(I.movieID==3780)]\n",
    "\n",
    "logging.debug(df.to_latex(index=False))"
   ]
  },
  {
   "cell_type": "code",
   "execution_count": 263,
   "metadata": {},
   "outputs": [],
   "source": [
    "def calculate_IDF():\n",
    "    logging.debug(\"IDF\")\n",
    "    idf = pd.DataFrame()\n",
    "    for i, d in data.groupby(\"genre\"):\n",
    "        idf = idf.append(pd.DataFrame({\"idf\":[1/len(set(d.movieID))],\"genre\":[i]}))\n",
    "    return idf\n",
    "idf_dict = calculate_IDF()\n",
    "logging.debug(idf_dict.to_latex(index=False))"
   ]
  },
  {
   "cell_type": "code",
   "execution_count": 268,
   "metadata": {},
   "outputs": [],
   "source": [
    "def calculate_IDF_dict():\n",
    "    logging.debug(\"IDF\")\n",
    "    idf = {}\n",
    "    for i, d in data.groupby(\"genre\"):\n",
    "        idf[i] = 1/len(set(d.movieID))\n",
    "    return idf\n",
    "idf_dict = calculate_IDF_dict()"
   ]
  },
  {
   "cell_type": "code",
   "execution_count": 281,
   "metadata": {},
   "outputs": [],
   "source": [
    "def dot_part3(movieId,userID):\n",
    "    data = create_movie_per_genre()\n",
    "    user = data[data.userID==userID]\n",
    "    test = pd.DataFrame()\n",
    "    for i,d in user.iterrows():\n",
    "        len_genres = len(list(set(user[user.movieID==d.movieID].genre)))\n",
    "        d.rating = (d.rating ) /np.sqrt(len_genres)\n",
    "        test = test.append(d)\n",
    "    u = test.groupby(\"genre\").rating.sum()\n",
    "    genres = list(set(data[data.movieID==movieId].genre))\n",
    "    logging.debug(u)\n",
    "    for genre in possible_genre:\n",
    "        if genre not in genres:\n",
    "            u[genre] = 0\n",
    "        if genre in u:\n",
    "            u[genre] *= idf_dict[genre]*1/np.sqrt(len(genres))\n",
    "    return u.sum()\n",
    "logging.debug(dot_part3(5882,526))"
   ]
  },
  {
   "cell_type": "code",
   "execution_count": null,
   "metadata": {
    "scrolled": false
   },
   "outputs": [],
   "source": [
    "five_rec_14_part3 = {}\n",
    "for i in set(data.movieID):\n",
    "    five_rec_14_part3[i] = dot_part3(i,526)\n",
    "\n",
    "for i in sorted(five_rec_14_part3.items(), key=lambda item: -item[1])[:5]:\n",
    "    logging.info(\"movieID: %s, recommendation score: %s\",i[0],i[1])\n",
    "    \n",
    "top_200 = sorted(five_rec_14_part3.items(), key=lambda item: -item[1])[:200]"
   ]
  },
  {
   "cell_type": "code",
   "execution_count": 280,
   "metadata": {},
   "outputs": [],
   "source": [
    "df = I[(I.movieID==5882)|(I.movieID==67408)|(I.movieID==87306)|(I.movieID==109487)|(I.movieID==32031)]\n",
    "\n",
    "logging.debug(df.to_latex(index=False))"
   ]
  },
  {
   "cell_type": "code",
   "execution_count": 289,
   "metadata": {},
   "outputs": [],
   "source": [
    "def norm(v):\n",
    "    return np.sqrt(np.sum([i**2 for i in v]))"
   ]
  },
  {
   "cell_type": "code",
   "execution_count": 290,
   "metadata": {},
   "outputs": [],
   "source": [
    "def cosine_sim(a,b):\n",
    "    teller = 0\n",
    "    for ai,bi in zip(a,b):\n",
    "        teller += ai*bi\n",
    "    return teler / (norm(a)*norm(b))\n",
    "    "
   ]
  },
  {
   "cell_type": "code",
   "execution_count": 291,
   "metadata": {},
   "outputs": [],
   "source": [
    "def mmr(related, user, n_recom, _lambda):\n",
    "    retval = []\n",
    "    while len(retval) < n_recom:\n",
    "        best = top_200\n",
    "        best_score = -np.inf\n",
    "        for i in related:\n",
    "            revelance = cosine_sim(i.sort_values('genre').rating,user.sort_values('genre').rating)\n",
    "            simselected = np.max([cosine_sim(i.sort_values('genre').rating,k.sort_values('genre').rating) for k in related])\n",
    "            score = _lambda * revelance - (1 - _lambda) * simselected\n",
    "            if score > best:\n",
    "                best = i.movieID\n",
    "                best_score = score\n",
    "        retval.append((best,best_score,))\n",
    "        related.remove(best)\n",
    "    return retval\n",
    "five_rec_14_mmr = mmr(,create_user_profile(526),5,0.5)\n",
    "for i in sorted(five_rec_14_mmr.items(), key=lambda item: -item[1]):\n",
    "    logging.info(\"movieID: %s, recommendation score: %s\",i[0],i[1])"
   ]
  },
  {
   "cell_type": "code",
   "execution_count": 293,
   "metadata": {},
   "outputs": [
    {
     "name": "stderr",
     "output_type": "stream",
     "text": [
      "INFO:root:\\begin{tabular}{rll}\n",
      "\\toprule\n",
      " movieID &                                              title &                                              genre \\\\\n",
      "\\midrule\n",
      "    6902 &                               Interstate 60 (2002) & Adventure|Comedy|Drama|Fantasy|Mystery|Sci-Fi|T... \\\\\n",
      "   27728 & Ghost in the Shell 2: Innocence (a.k.a. Innocen... &             Action|Animation|Drama|Sci-Fi|Thriller \\\\\n",
      "   72209 &                                   Astro Boy (2009) &                   Action|Animation|Children|Sci-Fi \\\\\n",
      "   86644 &     Fast Five (Fast and the Furious 5, The) (2011) &                   Action|Crime|Drama|Thriller|IMAX \\\\\n",
      "  108190 &                                   Divergent (2014) &                      Adventure|Romance|Sci-Fi|IMAX \\\\\n",
      "\\bottomrule\n",
      "\\end{tabular}\n",
      "\n"
     ]
    }
   ],
   "source": [
    "df = I[(I.movieID==6902)|(I.movieID==86644)|(I.movieID==72209)|(I.movieID==27728)|(I.movieID==108190)]\n",
    "\n",
    "logging.info(df.to_latex(index=False))"
   ]
  },
  {
   "cell_type": "code",
   "execution_count": null,
   "metadata": {},
   "outputs": [],
   "source": []
  }
 ],
 "metadata": {
  "kernelspec": {
   "display_name": "Python 3",
   "language": "python",
   "name": "python3"
  },
  "language_info": {
   "codemirror_mode": {
    "name": "ipython",
    "version": 3
   },
   "file_extension": ".py",
   "mimetype": "text/x-python",
   "name": "python",
   "nbconvert_exporter": "python",
   "pygments_lexer": "ipython3",
   "version": "3.7.10"
  }
 },
 "nbformat": 4,
 "nbformat_minor": 4
}
