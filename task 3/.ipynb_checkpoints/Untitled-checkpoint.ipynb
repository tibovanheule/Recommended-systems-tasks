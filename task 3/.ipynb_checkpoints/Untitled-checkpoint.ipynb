{
 "cells": [
  {
   "cell_type": "code",
   "execution_count": 1,
   "metadata": {},
   "outputs": [
    {
     "ename": "SyntaxError",
     "evalue": "invalid syntax (<ipython-input-1-f72e6a088823>, line 2)",
     "output_type": "error",
     "traceback": [
      "\u001b[0;36m  File \u001b[0;32m\"<ipython-input-1-f72e6a088823>\"\u001b[0;36m, line \u001b[0;32m2\u001b[0m\n\u001b[0;31m    @author = \"Tibo Vanheule\"\u001b[0m\n\u001b[0m            ^\u001b[0m\n\u001b[0;31mSyntaxError\u001b[0m\u001b[0;31m:\u001b[0m invalid syntax\n"
     ]
    }
   ],
   "source": [
    "__author__ = \"Tibo Vanheule\"\n",
    "@author = \"Tibo Vanheule\""
   ]
  },
  {
   "cell_type": "code",
   "execution_count": 38,
   "metadata": {
    "scrolled": true
   },
   "outputs": [
    {
     "name": "stderr",
     "output_type": "stream",
     "text": [
      "INFO:root:reading\n",
      "INFO:root:Done reading\n"
     ]
    }
   ],
   "source": [
    "import pandas as pd\n",
    "import numpy as np\n",
    "import logging\n",
    "from functools import lru_cache\n",
    "from pathlib import Path\n",
    "import scipy\n",
    "\n",
    "logging.getLogger().setLevel(logging.INFO)\n",
    "\n",
    "def read_dat_files(scaling=False):\n",
    "    logging.info(\"reading\")\n",
    "    R = pd.read_csv(\"ratings.csv\",names=[\"userID\",\"movieID\",\"rating\",\"timestamp\"],skiprows=1)\n",
    "    I = pd.read_csv(\"movies.csv\",names=[\"movieID\",\"title\",\"genre\"],skiprows=1)\n",
    "    U = pd.read_csv(\"tags.csv\",skiprows=1)\n",
    "    logging.info(\"Done reading\")\n",
    "    \n",
    "    if scaling:\n",
    "        logging.info(\"scaling\")\n",
    "        R[\"rating\"] = np.array(R[\"rating\"],dtype=float) - 3.0\n",
    "        logging.info(\"Done scaling\")\n",
    "    return R, I, U \n",
    "\n",
    "R, I, U = read_dat_files()"
   ]
  },
  {
   "cell_type": "code",
   "execution_count": 41,
   "metadata": {},
   "outputs": [
    {
     "name": "stdout",
     "output_type": "stream",
     "text": [
      "   userID_x  movieID  rating_x  timestamp_x  userID_y  rating_y  timestamp_y\n",
      "0         1     1371       2.5   1260759135         4       4.0    949810302\n",
      "1         1     1953       4.0   1260759191         4       5.0    949810261\n",
      "2         1     2105       4.0   1260759139         4       4.0    949896114\n",
      "3         1     2193       2.0   1260759198         4       3.0    949896070\n",
      "4         1     2968       1.0   1260759200         4       5.0    949896070\n"
     ]
    },
    {
     "data": {
      "text/plain": [
       "0.0687523872771158"
      ]
     },
     "execution_count": 41,
     "metadata": {},
     "output_type": "execute_result"
    }
   ],
   "source": [
    "def pearson_correlation(r_a: pd.DataFrame,r_b: pd.DataFrame, cut_off=10, significance_weigthing=False) -> float:\n",
    "    \n",
    "    intersection = pd.merge(R_a, R_u, how ='inner', on =['movieID'])\n",
    "    if len(intersection) <=1:\n",
    "        return 0\n",
    "    print(intersection)\n",
    "    r_a_mean = np.mean(intersection.rating_x)\n",
    "    r_u_mean = np.mean(intersection.rating_y)\n",
    "    teller = np.sum([(d.rating_x-r_a_mean)*(d.rating_y-r_u_mean) for i,d in intersection.iterrows()])\n",
    "    noemer1 = np.sum([(d.rating_x-r_a_mean)**2 for i,d in intersection.iterrows()])\n",
    "    noemer2 = np.sum([(d.rating_y-r_u_mean)**2 for i,d in intersection.iterrows()])\n",
    "    \n",
    "    retval = teller/np.sqrt(noemer1*noemer2)\n",
    "    if significance_weigthing:\n",
    "        return retval*(np.min([cut_off,len(intersection)])/cut_off)\n",
    "    logging.info(scipy.stats.pearsonr(intersection.rating_x,intersection.rating_y))\n",
    "    return retval\n",
    "\n",
    "R_a = R[R.userID == 1]\n",
    "R_u = R[R.userID == 4]\n",
    "pearson_correlation(R_a,R_u)"
   ]
  },
  {
   "cell_type": "code",
   "execution_count": 12,
   "metadata": {},
   "outputs": [],
   "source": [
    "def uucf(user_id: int, user_id2: int) -> float:\n",
    "    R_a = R[R.userID == user_id]\n",
    "    R_u = R[R.userID == user_id2]\n",
    "    intersection = pd.merge(R_a, R_u, how ='inner', on =['movieID'])\n",
    "    if len(intersection) <=1:\n",
    "        return 0\n",
    "\n",
    "uucf(3,2)"
   ]
  },
  {
   "cell_type": "code",
   "execution_count": null,
   "metadata": {},
   "outputs": [],
   "source": []
  }
 ],
 "metadata": {
  "kernelspec": {
   "display_name": "Python 3",
   "language": "python",
   "name": "python3"
  },
  "language_info": {
   "codemirror_mode": {
    "name": "ipython",
    "version": 3
   },
   "file_extension": ".py",
   "mimetype": "text/x-python",
   "name": "python",
   "nbconvert_exporter": "python",
   "pygments_lexer": "ipython3",
   "version": "3.7.10"
  }
 },
 "nbformat": 4,
 "nbformat_minor": 4
}
