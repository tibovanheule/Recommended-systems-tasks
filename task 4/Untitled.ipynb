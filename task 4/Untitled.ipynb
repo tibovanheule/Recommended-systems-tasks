{
 "cells": [
  {
   "cell_type": "code",
   "execution_count": null,
   "id": "8c1b8f0b",
   "metadata": {},
   "outputs": [],
   "source": [
    "!pip install lenskit\n",
    "!pip install tbb\n",
    "!pip install matplotlib\n",
    "!pip install seaborn"
   ]
  },
  {
   "cell_type": "code",
   "execution_count": null,
   "id": "cd3d931a",
   "metadata": {},
   "outputs": [],
   "source": [
    "from lenskit.datasets import ML100K\n",
    "from lenskit import batch, topn, util\n",
    "from lenskit import crossfold\n",
    "from lenskit.algorithms import Recommender, als, item_knn, bias, user_knn, funksvd,Predictor\n",
    "from lenskit import topn\n",
    "import pandas as pd\n",
    "import matplotlib.pyplot as plt\n",
    "import seaborn as sns\n",
    "import numpy as np"
   ]
  },
  {
   "cell_type": "code",
   "execution_count": null,
   "id": "388f9530",
   "metadata": {
    "scrolled": true
   },
   "outputs": [],
   "source": [
    "ml100k = ML100K('ml-100k')\n",
    "ratings = ml100k.ratings"
   ]
  },
  {
   "cell_type": "code",
   "execution_count": null,
   "id": "aa4cb848",
   "metadata": {},
   "outputs": [],
   "source": [
    "# All algorithms used\n",
    "algo_ii = item_knn.ItemItem(20)\n",
    "algo_uu = user_knn.UserUser(20)\n",
    "algo_bias = bias.Bias(damping=5)\n",
    "algo_biasedMF = als.BiasedMF(50)\n",
    "algo_ImplicitMF = als.ImplicitMF(50)\n",
    "algo_funksvd = funksvd.FunkSVD(50)"
   ]
  },
  {
   "cell_type": "code",
   "execution_count": null,
   "id": "0050af38",
   "metadata": {},
   "outputs": [],
   "source": [
    "def eval_batch(name, algo, train, test):\n",
    "    # before fitting the algorithm, we clone it. Some algorithms misbehave when fit multiple times.\n",
    "    fittable = util.clone(algo)\n",
    "    # our algorithms do not necessarily implement the Recommender interface, so we adapt them. \n",
    "    fittable = Recommender.adapt(fittable)\n",
    "    fittable.fit(train)\n",
    "    users = test.user.unique()\n",
    "    # now we run the recommender\n",
    "    recs = batch.recommend(fittable, users, 100)\n",
    "    # add the algorithm name for analyzability\n",
    "    recs['Algorithm'] = name\n",
    "    return recs"
   ]
  },
  {
   "cell_type": "code",
   "execution_count": null,
   "id": "b30b4f69",
   "metadata": {},
   "outputs": [],
   "source": [
    "all_recs = []\n",
    "test_data = []\n",
    "for train, test in crossfold.partition_users(ratings[['user', 'item', 'rating']], 5, crossfold.SampleFrac(0.2)):\n",
    "    test_data.append(test)\n",
    "    all_recs.append(eval_batch('ItemItem', algo_ii, train, test))\n",
    "    all_recs.append(eval_batch('UserUser', algo_uu, train, test))\n",
    "    all_recs.append(eval_batch('Bias', algo_bias, train, test))\n",
    "    all_recs.append(eval_batch('Bias MF', algo_biasedMF, train, test))\n",
    "    all_recs.append(eval_batch('Implicit MF', algo_ImplicitMF, train, test))\n",
    "    all_recs.append(eval_batch('Funksvd', algo_funksvd, train, test))"
   ]
  },
  {
   "cell_type": "code",
   "execution_count": null,
   "id": "c86881db",
   "metadata": {},
   "outputs": [],
   "source": [
    "all_recs = pd.concat(all_recs, ignore_index=True)"
   ]
  },
  {
   "cell_type": "code",
   "execution_count": null,
   "id": "1e88043f",
   "metadata": {},
   "outputs": [],
   "source": [
    "test_data = pd.concat(test_data, ignore_index=True)"
   ]
  },
  {
   "cell_type": "code",
   "execution_count": null,
   "id": "cf54f43c",
   "metadata": {},
   "outputs": [],
   "source": [
    "rla = topn.RecListAnalysis()\n",
    "rla.add_metric(topn.ndcg)\n",
    "results = rla.compute(all_recs, test_data)\n",
    "results.head()"
   ]
  },
  {
   "cell_type": "code",
   "execution_count": null,
   "id": "07ff83f8",
   "metadata": {},
   "outputs": [],
   "source": [
    "results = results.reset_index()"
   ]
  },
  {
   "cell_type": "code",
   "execution_count": null,
   "id": "d028cd2f",
   "metadata": {},
   "outputs": [],
   "source": [
    "\n",
    "plt.rcParams.update({'font.size': 10})\n",
    "chart = sns.barplot(x=\"Algorithm\", hue=\"Algorithm\", y=\"ndcg\", data=results)\n",
    "chart.set_xticklabels(chart.get_xticklabels(), rotation=90, horizontalalignment='right')\n",
    "plt.legend()\n",
    "plt.show()"
   ]
  },
  {
   "cell_type": "code",
   "execution_count": null,
   "id": "022eb398",
   "metadata": {},
   "outputs": [],
   "source": [
    "def eval_rating(name, algo):\n",
    "    # before fitting the algorithm, we clone it. Some algorithms misbehave when fit multiple times.\n",
    "    fittable = util.clone(algo)\n",
    "\n",
    "    train = ratings[['user', 'item', 'rating']]\n",
    "    fittable =fittable.fit(train)\n",
    "    \n",
    "    result = fittable.predict_for_user(196,(302,))\n",
    "    result['Algorithm'] = name\n",
    "    return result"
   ]
  },
  {
   "cell_type": "code",
   "execution_count": null,
   "id": "af30c81a",
   "metadata": {},
   "outputs": [],
   "source": [
    "df = pd.DataFrame()\n",
    "for i,v in {\"ItemItem\": algo_ii,\"Bias\":algo_bias,\"UserUser\":algo_uu,\"BiasedMF\":algo_biasedMF,\"ImplicitMF\":algo_ImplicitMF,\"Funksvd\":algo_funksvd}.items():\n",
    "    df = df.append(eval_rating(i, v),ignore_index=True)\n",
    "print(df.to_latex())"
   ]
  },
  {
   "cell_type": "code",
   "execution_count": null,
   "id": "9ded8ae4",
   "metadata": {},
   "outputs": [],
   "source": [
    "df = pd.DataFrame()\n",
    "for i,v in {\"ItemItem\": algo_ii,\"Bias\":algo_bias,\"UserUser\":algo_uu,\"BiasedMF\":algo_biasedMF,\"ImplicitMF\":algo_ImplicitMF,\"Funksvd\":algo_funksvd}.items():\n",
    "    d = eval_rating(i, v)[302]\n",
    "    d1 = eval_rating(i, v)[302]\n",
    "    d2 = eval_rating(i, v)[302]\n",
    "    df = df.append(pd.DataFrame({\"algorithm\":[i],\"302 first run\":[d],\"302 second run\":[d],\"302 third run\":[d2]}))"
   ]
  },
  {
   "cell_type": "code",
   "execution_count": null,
   "id": "f8c9e1d2",
   "metadata": {},
   "outputs": [],
   "source": [
    "print(df.to_latex())"
   ]
  },
  {
   "cell_type": "code",
   "execution_count": null,
   "id": "56a6e8ff",
   "metadata": {},
   "outputs": [],
   "source": []
  },
  {
   "cell_type": "code",
   "execution_count": null,
   "id": "57c890aa",
   "metadata": {},
   "outputs": [],
   "source": []
  },
  {
   "cell_type": "code",
   "execution_count": null,
   "id": "e5e10905",
   "metadata": {},
   "outputs": [],
   "source": []
  }
 ],
 "metadata": {
  "kernelspec": {
   "display_name": "Python 3 (ipykernel)",
   "language": "python",
   "name": "python3"
  },
  "language_info": {
   "codemirror_mode": {
    "name": "ipython",
    "version": 3
   },
   "file_extension": ".py",
   "mimetype": "text/x-python",
   "name": "python",
   "nbconvert_exporter": "python",
   "pygments_lexer": "ipython3",
   "version": "3.9.13"
  }
 },
 "nbformat": 4,
 "nbformat_minor": 5
}
