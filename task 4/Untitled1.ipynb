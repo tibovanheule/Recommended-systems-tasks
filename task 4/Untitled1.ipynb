{
 "cells": [
  {
   "cell_type": "code",
   "execution_count": 1,
   "id": "67f0532c",
   "metadata": {},
   "outputs": [],
   "source": [
    "def rank(perm:list):\n",
    "    rank = 0\n",
    "    for j in range(2,len(perm)+1):\n",
    "        k = 1\n",
    "        i = 0\n",
    "        while i < len(perm) and perm[i] != j:\n",
    "            if perm[i] < j: \n",
    "                k= k+1\n",
    "            i= i+1\n",
    "        if (rank % 2) == 0:\n",
    "            rank = j*rank + j - k\n",
    "        else:\n",
    "            rank = j*rank + k - 1\n",
    "    return rank"
   ]
  },
  {
   "cell_type": "code",
   "execution_count": 2,
   "id": "0df2fa86",
   "metadata": {},
   "outputs": [
    {
     "name": "stdout",
     "output_type": "stream",
     "text": [
      "13\n",
      "0\n",
      "0\n",
      "1\n"
     ]
    }
   ],
   "source": [
    "print(rank([3,4,2,1]))\n",
    "print(rank([1]))\n",
    "print(rank([1,2]))\n",
    "print(rank([2,1]))"
   ]
  },
  {
   "cell_type": "code",
   "execution_count": 3,
   "id": "bbbd9ec1",
   "metadata": {},
   "outputs": [],
   "source": [
    "import math \n",
    "def unrank(r:int,n:int):\n",
    "    perm = [1]*(n)\n",
    "    r2 = 0\n",
    "    for j in range(2,len(perm)+1):\n",
    "        r1 = int(r*math.factorial(j)/math.factorial(n))\n",
    "        k = r1 - j*r2\n",
    "        if (r2 % 2) == 0:\n",
    "            for i in range(j-1,j-k):\n",
    "                perm[i] = perm[i-1]\n",
    "            perm[j-k-1] = j\n",
    "        else:\n",
    "            for i in range(j-1,k+1):\n",
    "                perm[i] = perm[i-1]\n",
    "            perm[k] = j\n",
    "    return perm"
   ]
  },
  {
   "cell_type": "code",
   "execution_count": 4,
   "id": "eb92cfec",
   "metadata": {},
   "outputs": [
    {
     "name": "stdout",
     "output_type": "stream",
     "text": [
      "[1]\n",
      "[1, 2, 3]\n",
      "[1, 2]\n",
      "[2, 1]\n"
     ]
    }
   ],
   "source": [
    "print(unrank(0,1))\n",
    "print(unrank(0,3))\n",
    "print(unrank(0,2))\n",
    "print(unrank(1,2))"
   ]
  },
  {
   "cell_type": "code",
   "execution_count": 56,
   "id": "fbddf270",
   "metadata": {},
   "outputs": [],
   "source": [
    "def permparity(perm:list):\n",
    "    n = len(perm)\n",
    "    a = [0]*n\n",
    "    c = 0\n",
    "    for j in range(0,n):\n",
    "        if a[j] == 0:\n",
    "            c += 1\n",
    "            a[j] = 1\n",
    "            i = j\n",
    "            while i < n and perm[i]!= j:\n",
    "                i = perm[j] - 1\n",
    "                a[i] = 1\n",
    "    return (n-c)%2\n"
   ]
  },
  {
   "cell_type": "code",
   "execution_count": 57,
   "id": "bc9c2ee2",
   "metadata": {},
   "outputs": [
    {
     "ename": "KeyboardInterrupt",
     "evalue": "",
     "output_type": "error",
     "traceback": [
      "\u001b[0;31m---------------------------------------------------------------------------\u001b[0m",
      "\u001b[0;31mKeyboardInterrupt\u001b[0m                         Traceback (most recent call last)",
      "Cell \u001b[0;32mIn[57], line 1\u001b[0m\n\u001b[0;32m----> 1\u001b[0m \u001b[38;5;28mprint\u001b[39m(\u001b[43mpermparity\u001b[49m\u001b[43m(\u001b[49m\u001b[43m[\u001b[49m\u001b[38;5;241;43m2\u001b[39;49m\u001b[43m,\u001b[49m\u001b[43m \u001b[49m\u001b[38;5;241;43m1\u001b[39;49m\u001b[43m]\u001b[49m\u001b[43m)\u001b[49m)\n\u001b[1;32m      2\u001b[0m \u001b[38;5;28mprint\u001b[39m(permparity([\u001b[38;5;241m1\u001b[39m, \u001b[38;5;241m2\u001b[39m]))\n\u001b[1;32m      3\u001b[0m \u001b[38;5;28mprint\u001b[39m(permparity([\u001b[38;5;241m1\u001b[39m, \u001b[38;5;241m2\u001b[39m,\u001b[38;5;241m3\u001b[39m,\u001b[38;5;241m4\u001b[39m,\u001b[38;5;241m5\u001b[39m,\u001b[38;5;241m6\u001b[39m]))\n",
      "Cell \u001b[0;32mIn[56], line 10\u001b[0m, in \u001b[0;36mpermparity\u001b[0;34m(perm)\u001b[0m\n\u001b[1;32m      8\u001b[0m a[j] \u001b[38;5;241m=\u001b[39m \u001b[38;5;241m1\u001b[39m\n\u001b[1;32m      9\u001b[0m i \u001b[38;5;241m=\u001b[39m j\n\u001b[0;32m---> 10\u001b[0m \u001b[38;5;28;01mwhile\u001b[39;00m i \u001b[38;5;241m<\u001b[39m n \u001b[38;5;129;01mand\u001b[39;00m \u001b[43mperm\u001b[49m\u001b[43m[\u001b[49m\u001b[43mi\u001b[49m\u001b[43m]\u001b[49m\u001b[38;5;241m!=\u001b[39m j:\n\u001b[1;32m     11\u001b[0m     i \u001b[38;5;241m=\u001b[39m perm[j] \u001b[38;5;241m-\u001b[39m \u001b[38;5;241m1\u001b[39m\n\u001b[1;32m     12\u001b[0m     a[i] \u001b[38;5;241m=\u001b[39m \u001b[38;5;241m1\u001b[39m\n",
      "\u001b[0;31mKeyboardInterrupt\u001b[0m: "
     ]
    }
   ],
   "source": [
    "print(permparity([2, 1]))\n",
    "print(permparity([1, 2]))\n",
    "print(permparity([1, 2,3,4,5,6]))"
   ]
  },
  {
   "cell_type": "code",
   "execution_count": null,
   "id": "4d47dd59",
   "metadata": {},
   "outputs": [],
   "source": []
  }
 ],
 "metadata": {
  "kernelspec": {
   "display_name": "Python 3 (ipykernel)",
   "language": "python",
   "name": "python3"
  },
  "language_info": {
   "codemirror_mode": {
    "name": "ipython",
    "version": 3
   },
   "file_extension": ".py",
   "mimetype": "text/x-python",
   "name": "python",
   "nbconvert_exporter": "python",
   "pygments_lexer": "ipython3",
   "version": "3.9.13"
  }
 },
 "nbformat": 4,
 "nbformat_minor": 5
}
